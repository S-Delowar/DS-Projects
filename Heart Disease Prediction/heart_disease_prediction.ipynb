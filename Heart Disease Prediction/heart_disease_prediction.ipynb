{
 "cells": [
  {
   "cell_type": "code",
   "execution_count": 2,
   "id": "991913e0",
   "metadata": {},
   "outputs": [],
   "source": [
    "import pandas as pd\n",
    "import matplotlib.pyplot as plt\n",
    "import seaborn as sns\n",
    "import warnings\n",
    "warnings.filterwarnings('ignore')\n",
    "from scipy import stats\n",
    "import numpy as np"
   ]
  },
  {
   "cell_type": "code",
   "execution_count": 3,
   "id": "d35a1e68",
   "metadata": {
    "scrolled": true
   },
   "outputs": [
    {
     "data": {
      "text/html": [
       "<div>\n",
       "<style scoped>\n",
       "    .dataframe tbody tr th:only-of-type {\n",
       "        vertical-align: middle;\n",
       "    }\n",
       "\n",
       "    .dataframe tbody tr th {\n",
       "        vertical-align: top;\n",
       "    }\n",
       "\n",
       "    .dataframe thead th {\n",
       "        text-align: right;\n",
       "    }\n",
       "</style>\n",
       "<table border=\"1\" class=\"dataframe\">\n",
       "  <thead>\n",
       "    <tr style=\"text-align: right;\">\n",
       "      <th></th>\n",
       "      <th>HeartDisease</th>\n",
       "      <th>BMI</th>\n",
       "      <th>Smoking</th>\n",
       "      <th>AlcoholDrinking</th>\n",
       "      <th>Stroke</th>\n",
       "      <th>PhysicalHealth</th>\n",
       "      <th>MentalHealth</th>\n",
       "      <th>DiffWalking</th>\n",
       "      <th>Sex</th>\n",
       "      <th>AgeCategory</th>\n",
       "      <th>Race</th>\n",
       "      <th>Diabetic</th>\n",
       "      <th>PhysicalActivity</th>\n",
       "      <th>GenHealth</th>\n",
       "      <th>SleepTime</th>\n",
       "      <th>Asthma</th>\n",
       "      <th>KidneyDisease</th>\n",
       "      <th>SkinCancer</th>\n",
       "    </tr>\n",
       "  </thead>\n",
       "  <tbody>\n",
       "    <tr>\n",
       "      <th>0</th>\n",
       "      <td>No</td>\n",
       "      <td>16.60</td>\n",
       "      <td>Yes</td>\n",
       "      <td>No</td>\n",
       "      <td>No</td>\n",
       "      <td>3</td>\n",
       "      <td>30</td>\n",
       "      <td>No</td>\n",
       "      <td>Female</td>\n",
       "      <td>55-59</td>\n",
       "      <td>White</td>\n",
       "      <td>Yes</td>\n",
       "      <td>Yes</td>\n",
       "      <td>Very good</td>\n",
       "      <td>5</td>\n",
       "      <td>Yes</td>\n",
       "      <td>No</td>\n",
       "      <td>Yes</td>\n",
       "    </tr>\n",
       "    <tr>\n",
       "      <th>1</th>\n",
       "      <td>No</td>\n",
       "      <td>20.34</td>\n",
       "      <td>No</td>\n",
       "      <td>No</td>\n",
       "      <td>Yes</td>\n",
       "      <td>0</td>\n",
       "      <td>0</td>\n",
       "      <td>No</td>\n",
       "      <td>Female</td>\n",
       "      <td>80 or older</td>\n",
       "      <td>White</td>\n",
       "      <td>No</td>\n",
       "      <td>Yes</td>\n",
       "      <td>Very good</td>\n",
       "      <td>7</td>\n",
       "      <td>No</td>\n",
       "      <td>No</td>\n",
       "      <td>No</td>\n",
       "    </tr>\n",
       "    <tr>\n",
       "      <th>2</th>\n",
       "      <td>No</td>\n",
       "      <td>26.58</td>\n",
       "      <td>Yes</td>\n",
       "      <td>No</td>\n",
       "      <td>No</td>\n",
       "      <td>20</td>\n",
       "      <td>30</td>\n",
       "      <td>No</td>\n",
       "      <td>Male</td>\n",
       "      <td>65-69</td>\n",
       "      <td>White</td>\n",
       "      <td>Yes</td>\n",
       "      <td>Yes</td>\n",
       "      <td>Fair</td>\n",
       "      <td>8</td>\n",
       "      <td>Yes</td>\n",
       "      <td>No</td>\n",
       "      <td>No</td>\n",
       "    </tr>\n",
       "    <tr>\n",
       "      <th>3</th>\n",
       "      <td>No</td>\n",
       "      <td>24.21</td>\n",
       "      <td>No</td>\n",
       "      <td>No</td>\n",
       "      <td>No</td>\n",
       "      <td>0</td>\n",
       "      <td>0</td>\n",
       "      <td>No</td>\n",
       "      <td>Female</td>\n",
       "      <td>75-79</td>\n",
       "      <td>White</td>\n",
       "      <td>No</td>\n",
       "      <td>No</td>\n",
       "      <td>Good</td>\n",
       "      <td>6</td>\n",
       "      <td>No</td>\n",
       "      <td>No</td>\n",
       "      <td>Yes</td>\n",
       "    </tr>\n",
       "    <tr>\n",
       "      <th>4</th>\n",
       "      <td>No</td>\n",
       "      <td>23.71</td>\n",
       "      <td>No</td>\n",
       "      <td>No</td>\n",
       "      <td>No</td>\n",
       "      <td>28</td>\n",
       "      <td>0</td>\n",
       "      <td>Yes</td>\n",
       "      <td>Female</td>\n",
       "      <td>40-44</td>\n",
       "      <td>White</td>\n",
       "      <td>No</td>\n",
       "      <td>Yes</td>\n",
       "      <td>Very good</td>\n",
       "      <td>8</td>\n",
       "      <td>No</td>\n",
       "      <td>No</td>\n",
       "      <td>No</td>\n",
       "    </tr>\n",
       "  </tbody>\n",
       "</table>\n",
       "</div>"
      ],
      "text/plain": [
       "  HeartDisease    BMI Smoking AlcoholDrinking Stroke  PhysicalHealth  \\\n",
       "0           No  16.60     Yes              No     No               3   \n",
       "1           No  20.34      No              No    Yes               0   \n",
       "2           No  26.58     Yes              No     No              20   \n",
       "3           No  24.21      No              No     No               0   \n",
       "4           No  23.71      No              No     No              28   \n",
       "\n",
       "   MentalHealth DiffWalking     Sex  AgeCategory   Race Diabetic  \\\n",
       "0            30          No  Female        55-59  White      Yes   \n",
       "1             0          No  Female  80 or older  White       No   \n",
       "2            30          No    Male        65-69  White      Yes   \n",
       "3             0          No  Female        75-79  White       No   \n",
       "4             0         Yes  Female        40-44  White       No   \n",
       "\n",
       "  PhysicalActivity  GenHealth  SleepTime Asthma KidneyDisease SkinCancer  \n",
       "0              Yes  Very good          5    Yes            No        Yes  \n",
       "1              Yes  Very good          7     No            No         No  \n",
       "2              Yes       Fair          8    Yes            No         No  \n",
       "3               No       Good          6     No            No        Yes  \n",
       "4              Yes  Very good          8     No            No         No  "
      ]
     },
     "execution_count": 3,
     "metadata": {},
     "output_type": "execute_result"
    }
   ],
   "source": [
    "df = pd.read_csv('Heart Disease.csv')\n",
    "df_copy = df.copy()\n",
    "df.head()\n"
   ]
  },
  {
   "cell_type": "markdown",
   "id": "a7247768",
   "metadata": {},
   "source": [
    "## Exploratory Data Analysis (EDA) "
   ]
  },
  {
   "cell_type": "code",
   "execution_count": 4,
   "id": "b28ed466",
   "metadata": {
    "scrolled": true
   },
   "outputs": [
    {
     "data": {
      "text/plain": [
       "(319795, 18)"
      ]
     },
     "execution_count": 4,
     "metadata": {},
     "output_type": "execute_result"
    }
   ],
   "source": [
    "df.shape"
   ]
  },
  {
   "cell_type": "code",
   "execution_count": 5,
   "id": "5ca23230",
   "metadata": {},
   "outputs": [
    {
     "data": {
      "text/plain": [
       "Index(['HeartDisease', 'BMI', 'Smoking', 'AlcoholDrinking', 'Stroke',\n",
       "       'PhysicalHealth', 'MentalHealth', 'DiffWalking', 'Sex', 'AgeCategory',\n",
       "       'Race', 'Diabetic', 'PhysicalActivity', 'GenHealth', 'SleepTime',\n",
       "       'Asthma', 'KidneyDisease', 'SkinCancer'],\n",
       "      dtype='object')"
      ]
     },
     "execution_count": 5,
     "metadata": {},
     "output_type": "execute_result"
    }
   ],
   "source": [
    "df.columns"
   ]
  },
  {
   "cell_type": "code",
   "execution_count": 6,
   "id": "e9f47aa9",
   "metadata": {},
   "outputs": [
    {
     "data": {
      "text/plain": [
       "Index(['heart_disease', 'bmi', 'smoking', 'alcohol_drinking', 'stroke',\n",
       "       'physical_health', 'mental_health', 'diff_walking', 'sex',\n",
       "       'age_category', 'race', 'diabetic', 'physical_activity', 'gen_health',\n",
       "       'sleep_time', 'asthma', 'kidney_disease', 'skin_cancer'],\n",
       "      dtype='object')"
      ]
     },
     "execution_count": 6,
     "metadata": {},
     "output_type": "execute_result"
    }
   ],
   "source": [
    "df = df.rename(columns = {'HeartDisease':'heart_disease', 'BMI':'bmi', 'Smoking':'smoking', 'AlcoholDrinking':'alcohol_drinking', 'Stroke':'stroke', 'PhysicalHealth':'physical_health', 'MentalHealth':'mental_health', 'DiffWalking':'diff_walking', 'Sex':'sex', 'AgeCategory':'age_category', 'Race':'race', 'Diabetic':'diabetic', 'PhysicalActivity':'physical_activity', 'GenHealth':'gen_health', 'SleepTime':'sleep_time', 'Asthma':'asthma', 'KidneyDisease':'kidney_disease', 'SkinCancer':'skin_cancer'})\n",
    "df.columns"
   ]
  },
  {
   "cell_type": "code",
   "execution_count": 7,
   "id": "a278ab79",
   "metadata": {},
   "outputs": [
    {
     "data": {
      "text/plain": [
       "heart_disease        0\n",
       "bmi                  0\n",
       "smoking              0\n",
       "alcohol_drinking     0\n",
       "stroke               0\n",
       "physical_health      0\n",
       "mental_health        0\n",
       "diff_walking         0\n",
       "sex                  0\n",
       "age_category         0\n",
       "race                 0\n",
       "diabetic             0\n",
       "physical_activity    0\n",
       "gen_health           0\n",
       "sleep_time           0\n",
       "asthma               0\n",
       "kidney_disease       0\n",
       "skin_cancer          0\n",
       "dtype: int64"
      ]
     },
     "execution_count": 7,
     "metadata": {},
     "output_type": "execute_result"
    }
   ],
   "source": [
    "df.isnull().sum()"
   ]
  },
  {
   "cell_type": "code",
   "execution_count": 8,
   "id": "1fa2a2b3",
   "metadata": {},
   "outputs": [
    {
     "data": {
      "text/plain": [
       "No     292422\n",
       "Yes     27373\n",
       "Name: heart_disease, dtype: int64"
      ]
     },
     "execution_count": 8,
     "metadata": {},
     "output_type": "execute_result"
    }
   ],
   "source": [
    "df['heart_disease'].value_counts()"
   ]
  },
  {
   "cell_type": "code",
   "execution_count": 9,
   "id": "145bb612",
   "metadata": {},
   "outputs": [
    {
     "name": "stdout",
     "output_type": "stream",
     "text": [
      "<class 'pandas.core.frame.DataFrame'>\n",
      "RangeIndex: 319795 entries, 0 to 319794\n",
      "Data columns (total 18 columns):\n",
      " #   Column             Non-Null Count   Dtype  \n",
      "---  ------             --------------   -----  \n",
      " 0   heart_disease      319795 non-null  object \n",
      " 1   bmi                319795 non-null  float64\n",
      " 2   smoking            319795 non-null  object \n",
      " 3   alcohol_drinking   319795 non-null  object \n",
      " 4   stroke             319795 non-null  object \n",
      " 5   physical_health    319795 non-null  int64  \n",
      " 6   mental_health      319795 non-null  int64  \n",
      " 7   diff_walking       319795 non-null  object \n",
      " 8   sex                319795 non-null  object \n",
      " 9   age_category       319795 non-null  object \n",
      " 10  race               319795 non-null  object \n",
      " 11  diabetic           319795 non-null  object \n",
      " 12  physical_activity  319795 non-null  object \n",
      " 13  gen_health         319795 non-null  object \n",
      " 14  sleep_time         319795 non-null  int64  \n",
      " 15  asthma             319795 non-null  object \n",
      " 16  kidney_disease     319795 non-null  object \n",
      " 17  skin_cancer        319795 non-null  object \n",
      "dtypes: float64(1), int64(3), object(14)\n",
      "memory usage: 43.9+ MB\n"
     ]
    }
   ],
   "source": [
    "df.info()"
   ]
  },
  {
   "cell_type": "code",
   "execution_count": 10,
   "id": "7e382736",
   "metadata": {},
   "outputs": [
    {
     "data": {
      "text/html": [
       "<div>\n",
       "<style scoped>\n",
       "    .dataframe tbody tr th:only-of-type {\n",
       "        vertical-align: middle;\n",
       "    }\n",
       "\n",
       "    .dataframe tbody tr th {\n",
       "        vertical-align: top;\n",
       "    }\n",
       "\n",
       "    .dataframe thead th {\n",
       "        text-align: right;\n",
       "    }\n",
       "</style>\n",
       "<table border=\"1\" class=\"dataframe\">\n",
       "  <thead>\n",
       "    <tr style=\"text-align: right;\">\n",
       "      <th></th>\n",
       "      <th>bmi</th>\n",
       "      <th>physical_health</th>\n",
       "      <th>mental_health</th>\n",
       "      <th>sleep_time</th>\n",
       "    </tr>\n",
       "  </thead>\n",
       "  <tbody>\n",
       "    <tr>\n",
       "      <th>count</th>\n",
       "      <td>319795.000000</td>\n",
       "      <td>319795.000000</td>\n",
       "      <td>319795.000000</td>\n",
       "      <td>319795.000000</td>\n",
       "    </tr>\n",
       "    <tr>\n",
       "      <th>mean</th>\n",
       "      <td>28.325399</td>\n",
       "      <td>3.371710</td>\n",
       "      <td>3.898366</td>\n",
       "      <td>7.097075</td>\n",
       "    </tr>\n",
       "    <tr>\n",
       "      <th>std</th>\n",
       "      <td>6.356100</td>\n",
       "      <td>7.950850</td>\n",
       "      <td>7.955235</td>\n",
       "      <td>1.436007</td>\n",
       "    </tr>\n",
       "    <tr>\n",
       "      <th>min</th>\n",
       "      <td>12.020000</td>\n",
       "      <td>0.000000</td>\n",
       "      <td>0.000000</td>\n",
       "      <td>1.000000</td>\n",
       "    </tr>\n",
       "    <tr>\n",
       "      <th>25%</th>\n",
       "      <td>24.030000</td>\n",
       "      <td>0.000000</td>\n",
       "      <td>0.000000</td>\n",
       "      <td>6.000000</td>\n",
       "    </tr>\n",
       "    <tr>\n",
       "      <th>50%</th>\n",
       "      <td>27.340000</td>\n",
       "      <td>0.000000</td>\n",
       "      <td>0.000000</td>\n",
       "      <td>7.000000</td>\n",
       "    </tr>\n",
       "    <tr>\n",
       "      <th>75%</th>\n",
       "      <td>31.420000</td>\n",
       "      <td>2.000000</td>\n",
       "      <td>3.000000</td>\n",
       "      <td>8.000000</td>\n",
       "    </tr>\n",
       "    <tr>\n",
       "      <th>max</th>\n",
       "      <td>94.850000</td>\n",
       "      <td>30.000000</td>\n",
       "      <td>30.000000</td>\n",
       "      <td>24.000000</td>\n",
       "    </tr>\n",
       "    <tr>\n",
       "      <th>skewness</th>\n",
       "      <td>1.332431</td>\n",
       "      <td>2.603973</td>\n",
       "      <td>2.331112</td>\n",
       "      <td>0.679035</td>\n",
       "    </tr>\n",
       "    <tr>\n",
       "      <th>kurtosis</th>\n",
       "      <td>3.890043</td>\n",
       "      <td>5.528450</td>\n",
       "      <td>4.403937</td>\n",
       "      <td>7.854869</td>\n",
       "    </tr>\n",
       "    <tr>\n",
       "      <th>variance</th>\n",
       "      <td>40.400010</td>\n",
       "      <td>63.216019</td>\n",
       "      <td>63.285767</td>\n",
       "      <td>2.062116</td>\n",
       "    </tr>\n",
       "  </tbody>\n",
       "</table>\n",
       "</div>"
      ],
      "text/plain": [
       "                    bmi  physical_health  mental_health     sleep_time\n",
       "count     319795.000000    319795.000000  319795.000000  319795.000000\n",
       "mean          28.325399         3.371710       3.898366       7.097075\n",
       "std            6.356100         7.950850       7.955235       1.436007\n",
       "min           12.020000         0.000000       0.000000       1.000000\n",
       "25%           24.030000         0.000000       0.000000       6.000000\n",
       "50%           27.340000         0.000000       0.000000       7.000000\n",
       "75%           31.420000         2.000000       3.000000       8.000000\n",
       "max           94.850000        30.000000      30.000000      24.000000\n",
       "skewness       1.332431         2.603973       2.331112       0.679035\n",
       "kurtosis       3.890043         5.528450       4.403937       7.854869\n",
       "variance      40.400010        63.216019      63.285767       2.062116"
      ]
     },
     "execution_count": 10,
     "metadata": {},
     "output_type": "execute_result"
    }
   ],
   "source": [
    "statical_analysis = df.describe()\n",
    "statical_analysis.loc['skewness'] = df.skew()\n",
    "statical_analysis.loc['kurtosis'] = df.kurt()\n",
    "statical_analysis.loc['variance'] = df.var()\n",
    "statical_analysis"
   ]
  },
  {
   "cell_type": "markdown",
   "id": "daf8ce42",
   "metadata": {},
   "source": [
    "# Visualization"
   ]
  },
  {
   "cell_type": "code",
   "execution_count": 11,
   "id": "1d22c7ef",
   "metadata": {},
   "outputs": [
    {
     "data": {
      "image/png": "[encoded data removed]",
      "text/plain": [
       "<Figure size 720x432 with 1 Axes>"
      ]
     },
     "metadata": {
      "needs_background": "light"
     },
     "output_type": "display_data"
    }
   ],
   "source": [
    "plt.figure(figsize=(10,6))\n",
    "sns.countplot(data=df, x='sex', hue='heart_disease');"
   ]
  },
  {
   "cell_type": "code",
   "execution_count": 12,
   "id": "5d0a181e",
   "metadata": {},
   "outputs": [
    {
     "data": {
      "image/png": "[encoded data removed]",
      "text/plain": [
       "<Figure size 720x432 with 1 Axes>"
      ]
     },
     "metadata": {
      "needs_background": "light"
     },
     "output_type": "display_data"
    }
   ],
   "source": [
    "plt.figure(figsize=(10,6))\n",
    "sns.countplot(data=df, x='smoking', hue='heart_disease');"
   ]
  },
  {
   "cell_type": "code",
   "execution_count": 13,
   "id": "75d262aa",
   "metadata": {},
   "outputs": [
    {
     "data": {
      "image/png": "[encoded data removed]",
      "text/plain": [
       "<Figure size 720x432 with 1 Axes>"
      ]
     },
     "metadata": {
      "needs_background": "light"
     },
     "output_type": "display_data"
    }
   ],
   "source": [
    "plt.figure(figsize=(10,6))\n",
    "sns.countplot(data=df, x='alcohol_drinking', hue='heart_disease');"
   ]
  },
  {
   "cell_type": "code",
   "execution_count": 14,
   "id": "edf33bf4",
   "metadata": {},
   "outputs": [
    {
     "data": {
      "image/png": "[encoded data removed]",
      "text/plain": [
       "<Figure size 720x432 with 1 Axes>"
      ]
     },
     "metadata": {
      "needs_background": "light"
     },
     "output_type": "display_data"
    }
   ],
   "source": [
    "plt.figure(figsize=(10,6))\n",
    "sns.countplot(data=df, x='stroke', hue='heart_disease');"
   ]
  },
  {
   "cell_type": "code",
   "execution_count": 15,
   "id": "91c9b55e",
   "metadata": {},
   "outputs": [
    {
     "data": {
      "image/png": "[encoded data removed]",
      "text/plain": [
       "<Figure size 720x432 with 1 Axes>"
      ]
     },
     "metadata": {
      "needs_background": "light"
     },
     "output_type": "display_data"
    }
   ],
   "source": [
    "plt.figure(figsize=(10,6))\n",
    "sns.countplot(data=df, x='diff_walking', hue='heart_disease');"
   ]
  },
  {
   "cell_type": "code",
   "execution_count": 16,
   "id": "24bdad6f",
   "metadata": {},
   "outputs": [
    {
     "data": {
      "image/png": "[encoded data removed]",
      "text/plain": [
       "<Figure size 1080x576 with 1 Axes>"
      ]
     },
     "metadata": {
      "needs_background": "light"
     },
     "output_type": "display_data"
    }
   ],
   "source": [
    "plt.figure(figsize=(15,8))\n",
    "sns.countplot(data=df, x='age_category', hue='heart_disease');"
   ]
  },
  {
   "cell_type": "code",
   "execution_count": 17,
   "id": "078bce23",
   "metadata": {},
   "outputs": [
    {
     "data": {
      "image/png": "[encoded data removed]",
      "text/plain": [
       "<Figure size 1080x432 with 1 Axes>"
      ]
     },
     "metadata": {
      "needs_background": "light"
     },
     "output_type": "display_data"
    }
   ],
   "source": [
    "plt.figure(figsize=(15,6))\n",
    "sns.countplot(data=df, x='diabetic', hue='heart_disease');"
   ]
  },
  {
   "cell_type": "code",
   "execution_count": 18,
   "id": "58c031de",
   "metadata": {},
   "outputs": [
    {
     "data": {
      "image/png": "[encoded data removed]",
      "text/plain": [
       "<Figure size 720x432 with 1 Axes>"
      ]
     },
     "metadata": {
      "needs_background": "light"
     },
     "output_type": "display_data"
    }
   ],
   "source": [
    "plt.figure(figsize=(10,6))\n",
    "sns.countplot(data=df, x='asthma', hue='heart_disease');"
   ]
  },
  {
   "cell_type": "code",
   "execution_count": 19,
   "id": "fd4afb26",
   "metadata": {},
   "outputs": [
    {
     "data": {
      "image/png": "[encoded data removed]",
      "text/plain": [
       "<Figure size 720x432 with 1 Axes>"
      ]
     },
     "metadata": {
      "needs_background": "light"
     },
     "output_type": "display_data"
    }
   ],
   "source": [
    "plt.figure(figsize=(10,6))\n",
    "sns.countplot(data=df, x='kidney_disease', hue='heart_disease');"
   ]
  },
  {
   "cell_type": "code",
   "execution_count": 20,
   "id": "a7c0c7e5",
   "metadata": {},
   "outputs": [
    {
     "data": {
      "image/png": "[encoded data removed]",
      "text/plain": [
       "<Figure size 720x432 with 1 Axes>"
      ]
     },
     "metadata": {
      "needs_background": "light"
     },
     "output_type": "display_data"
    }
   ],
   "source": [
    "plt.figure(figsize=(10,6))\n",
    "sns.countplot(data=df, x='skin_cancer', hue='heart_disease');"
   ]
  },
  {
   "cell_type": "code",
   "execution_count": 21,
   "id": "9f99ca87",
   "metadata": {},
   "outputs": [
    {
     "data": {
      "image/png": "[encoded data removed]",
      "text/plain": [
       "<Figure size 720x432 with 1 Axes>"
      ]
     },
     "metadata": {
      "needs_background": "light"
     },
     "output_type": "display_data"
    }
   ],
   "source": [
    "plt.figure(figsize=(10,6))\n",
    "sns.countplot(data=df, x='race', hue='heart_disease');"
   ]
  },
  {
   "cell_type": "code",
   "execution_count": 22,
   "id": "2450e5e2",
   "metadata": {},
   "outputs": [
    {
     "data": {
      "image/png": "[encoded data removed]",
      "text/plain": [
       "<Figure size 720x432 with 1 Axes>"
      ]
     },
     "metadata": {
      "needs_background": "light"
     },
     "output_type": "display_data"
    }
   ],
   "source": [
    "plt.figure(figsize=(10,6))\n",
    "sns.countplot(data=df, x='physical_activity', hue='heart_disease');"
   ]
  },
  {
   "cell_type": "code",
   "execution_count": 23,
   "id": "d6ebbae7",
   "metadata": {},
   "outputs": [
    {
     "data": {
      "image/png": "[encoded data removed]",
      "text/plain": [
       "<Figure size 720x432 with 1 Axes>"
      ]
     },
     "metadata": {
      "needs_background": "light"
     },
     "output_type": "display_data"
    }
   ],
   "source": [
    "plt.figure(figsize=(10,6))\n",
    "sns.countplot(data=df, x='gen_health', hue='heart_disease');"
   ]
  },
  {
   "cell_type": "code",
   "execution_count": 24,
   "id": "ec90cc02",
   "metadata": {
    "scrolled": false
   },
   "outputs": [
    {
     "data": {
      "image/png": "[encoded data removed]",
      "text/plain": [
       "<Figure size 720x432 with 1 Axes>"
      ]
     },
     "metadata": {
      "needs_background": "light"
     },
     "output_type": "display_data"
    }
   ],
   "source": [
    "plt.figure(figsize=(10,6))\n",
    "sns.histplot(data=df, x='bmi', kde=True);"
   ]
  },
  {
   "cell_type": "code",
   "execution_count": 25,
   "id": "d51a315e",
   "metadata": {
    "scrolled": true
   },
   "outputs": [
    {
     "data": {
      "image/png": "[encoded data removed]",
      "text/plain": [
       "<Figure size 720x432 with 1 Axes>"
      ]
     },
     "metadata": {
      "needs_background": "light"
     },
     "output_type": "display_data"
    }
   ],
   "source": [
    "plt.figure(figsize=(10,6))\n",
    "sns.histplot(data=df, x='physical_health', kde=True);"
   ]
  },
  {
   "cell_type": "code",
   "execution_count": 26,
   "id": "73518f5c",
   "metadata": {
    "scrolled": true
   },
   "outputs": [
    {
     "data": {
      "image/png": "[encoded data removed]",
      "text/plain": [
       "<Figure size 432x288 with 1 Axes>"
      ]
     },
     "metadata": {
      "needs_background": "light"
     },
     "output_type": "display_data"
    }
   ],
   "source": [
    "sns.countplot(data=df, x='heart_disease');"
   ]
  },
  {
   "cell_type": "markdown",
   "id": "7735cd3b",
   "metadata": {},
   "source": [
    "We can see that data is highly imbalanced"
   ]
  },
  {
   "cell_type": "markdown",
   "id": "d34b86ae",
   "metadata": {},
   "source": [
    "#### Checking Outliers"
   ]
  },
  {
   "cell_type": "code",
   "execution_count": 27,
   "id": "3ebb0add",
   "metadata": {},
   "outputs": [
    {
     "data": {
      "image/png": "[encoded data removed]",
      "text/plain": [
       "<Figure size 720x432 with 1 Axes>"
      ]
     },
     "metadata": {
      "needs_background": "light"
     },
     "output_type": "display_data"
    }
   ],
   "source": [
    "columns_to_plot = ['physical_health', 'mental_health', 'sleep_time']\n",
    "\n",
    "plt.figure(figsize=(10,6))\n",
    "sns.boxplot(data=df[columns_to_plot]);"
   ]
  },
  {
   "cell_type": "code",
   "execution_count": 28,
   "id": "55f55560",
   "metadata": {},
   "outputs": [
    {
     "data": {
      "image/png": "[encoded data removed]",
      "text/plain": [
       "<Figure size 720x432 with 1 Axes>"
      ]
     },
     "metadata": {
      "needs_background": "light"
     },
     "output_type": "display_data"
    }
   ],
   "source": [
    "plt.figure(figsize=(10,6))\n",
    "sns.boxplot(data=df[['bmi']]);"
   ]
  },
  {
   "cell_type": "markdown",
   "id": "1d0465da",
   "metadata": {},
   "source": [
    "We can see that there are outliers in these columns ('bmi', 'physical_health', 'mental_health', 'sleep_time')"
   ]
  },
  {
   "cell_type": "markdown",
   "id": "16e21cc0",
   "metadata": {},
   "source": [
    "#### Finding and Cleaning outliers"
   ]
  },
  {
   "cell_type": "markdown",
   "id": "88b58d59",
   "metadata": {},
   "source": [
    "We can find outliers by z-score or modified z-score. if z-score < -3 or  z-score > 3, then the value is a outlier."
   ]
  },
  {
   "cell_type": "code",
   "execution_count": 29,
   "id": "795d1402",
   "metadata": {},
   "outputs": [],
   "source": [
    "cols = ['bmi', 'physical_health', 'mental_health', 'sleep_time']\n",
    "z = stats.zscore(df[cols])\n",
    "z = np.abs(z)\n",
    "\n",
    "thresold = 3\n",
    "df_filtered = df[(z < thresold).all(axis = 1)]\n",
    "df_outliers = df[(z > thresold).all(axis = 1)]"
   ]
  },
  {
   "cell_type": "code",
   "execution_count": 30,
   "id": "7d22bddb",
   "metadata": {},
   "outputs": [
    {
     "data": {
      "image/png": "[encoded data removed]",
      "text/plain": [
       "<Figure size 432x288 with 1 Axes>"
      ]
     },
     "metadata": {
      "needs_background": "light"
     },
     "output_type": "display_data"
    }
   ],
   "source": [
    "columns_to_plot = ['physical_health', 'mental_health', 'sleep_time']\n",
    "sns.boxplot(data=df_filtered[columns_to_plot]);"
   ]
  },
  {
   "cell_type": "code",
   "execution_count": 31,
   "id": "cb0f32f1",
   "metadata": {},
   "outputs": [
    {
     "data": {
      "text/plain": [
       "heart_disease        23\n",
       "bmi                  23\n",
       "smoking              23\n",
       "alcohol_drinking     23\n",
       "stroke               23\n",
       "physical_health      23\n",
       "mental_health        23\n",
       "diff_walking         23\n",
       "sex                  23\n",
       "age_category         23\n",
       "race                 23\n",
       "diabetic             23\n",
       "physical_activity    23\n",
       "gen_health           23\n",
       "sleep_time           23\n",
       "asthma               23\n",
       "kidney_disease       23\n",
       "skin_cancer          23\n",
       "dtype: int64"
      ]
     },
     "execution_count": 31,
     "metadata": {},
     "output_type": "execute_result"
    }
   ],
   "source": [
    "df_outliers.count()"
   ]
  },
  {
   "cell_type": "code",
   "execution_count": 32,
   "id": "2c40a3d0",
   "metadata": {
    "scrolled": true
   },
   "outputs": [
    {
     "data": {
      "image/png": "[encoded data removed]",
      "text/plain": [
       "<Figure size 432x288 with 1 Axes>"
      ]
     },
     "metadata": {
      "needs_background": "light"
     },
     "output_type": "display_data"
    }
   ],
   "source": [
    "sns.boxplot(data=df_filtered[['bmi']]);"
   ]
  },
  {
   "cell_type": "code",
   "execution_count": 33,
   "id": "429a1600",
   "metadata": {},
   "outputs": [
    {
     "data": {
      "image/png": "[encoded data removed]",
      "text/plain": [
       "<Figure size 432x288 with 1 Axes>"
      ]
     },
     "metadata": {
      "needs_background": "light"
     },
     "output_type": "display_data"
    }
   ],
   "source": [
    "sns.histplot(data=df_filtered, x='bmi', kde=True);"
   ]
  },
  {
   "cell_type": "code",
   "execution_count": 34,
   "id": "a29dc4a8",
   "metadata": {},
   "outputs": [
    {
     "data": {
      "image/png": "[encoded data removed]",
      "text/plain": [
       "<Figure size 432x288 with 1 Axes>"
      ]
     },
     "metadata": {
      "needs_background": "light"
     },
     "output_type": "display_data"
    }
   ],
   "source": [
    "sns.histplot(data=df_filtered, x='physical_health', kde=True);"
   ]
  },
  {
   "cell_type": "code",
   "execution_count": 35,
   "id": "6ef70411",
   "metadata": {},
   "outputs": [
    {
     "data": {
      "text/html": [
       "<div>\n",
       "<style scoped>\n",
       "    .dataframe tbody tr th:only-of-type {\n",
       "        vertical-align: middle;\n",
       "    }\n",
       "\n",
       "    .dataframe tbody tr th {\n",
       "        vertical-align: top;\n",
       "    }\n",
       "\n",
       "    .dataframe thead th {\n",
       "        text-align: right;\n",
       "    }\n",
       "</style>\n",
       "<table border=\"1\" class=\"dataframe\">\n",
       "  <thead>\n",
       "    <tr style=\"text-align: right;\">\n",
       "      <th></th>\n",
       "      <th>bmi</th>\n",
       "      <th>physical_health</th>\n",
       "      <th>mental_health</th>\n",
       "      <th>sleep_time</th>\n",
       "    </tr>\n",
       "  </thead>\n",
       "  <tbody>\n",
       "    <tr>\n",
       "      <th>count</th>\n",
       "      <td>280293.000000</td>\n",
       "      <td>280293.000000</td>\n",
       "      <td>280293.000000</td>\n",
       "      <td>280293.000000</td>\n",
       "    </tr>\n",
       "    <tr>\n",
       "      <th>mean</th>\n",
       "      <td>27.880319</td>\n",
       "      <td>1.438748</td>\n",
       "      <td>2.212064</td>\n",
       "      <td>7.111954</td>\n",
       "    </tr>\n",
       "    <tr>\n",
       "      <th>std</th>\n",
       "      <td>5.559384</td>\n",
       "      <td>3.850877</td>\n",
       "      <td>4.715502</td>\n",
       "      <td>1.171492</td>\n",
       "    </tr>\n",
       "    <tr>\n",
       "      <th>min</th>\n",
       "      <td>12.080000</td>\n",
       "      <td>0.000000</td>\n",
       "      <td>0.000000</td>\n",
       "      <td>3.000000</td>\n",
       "    </tr>\n",
       "    <tr>\n",
       "      <th>25%</th>\n",
       "      <td>23.910000</td>\n",
       "      <td>0.000000</td>\n",
       "      <td>0.000000</td>\n",
       "      <td>6.000000</td>\n",
       "    </tr>\n",
       "    <tr>\n",
       "      <th>50%</th>\n",
       "      <td>27.120000</td>\n",
       "      <td>0.000000</td>\n",
       "      <td>0.000000</td>\n",
       "      <td>7.000000</td>\n",
       "    </tr>\n",
       "    <tr>\n",
       "      <th>75%</th>\n",
       "      <td>31.010000</td>\n",
       "      <td>0.000000</td>\n",
       "      <td>2.000000</td>\n",
       "      <td>8.000000</td>\n",
       "    </tr>\n",
       "    <tr>\n",
       "      <th>max</th>\n",
       "      <td>47.370000</td>\n",
       "      <td>27.000000</td>\n",
       "      <td>27.000000</td>\n",
       "      <td>11.000000</td>\n",
       "    </tr>\n",
       "    <tr>\n",
       "      <th>skewness</th>\n",
       "      <td>1.332431</td>\n",
       "      <td>2.603973</td>\n",
       "      <td>2.331112</td>\n",
       "      <td>0.679035</td>\n",
       "    </tr>\n",
       "    <tr>\n",
       "      <th>kurtosis</th>\n",
       "      <td>3.890043</td>\n",
       "      <td>5.528450</td>\n",
       "      <td>4.403937</td>\n",
       "      <td>7.854869</td>\n",
       "    </tr>\n",
       "    <tr>\n",
       "      <th>variance</th>\n",
       "      <td>40.400010</td>\n",
       "      <td>63.216019</td>\n",
       "      <td>63.285767</td>\n",
       "      <td>2.062116</td>\n",
       "    </tr>\n",
       "  </tbody>\n",
       "</table>\n",
       "</div>"
      ],
      "text/plain": [
       "                    bmi  physical_health  mental_health     sleep_time\n",
       "count     280293.000000    280293.000000  280293.000000  280293.000000\n",
       "mean          27.880319         1.438748       2.212064       7.111954\n",
       "std            5.559384         3.850877       4.715502       1.171492\n",
       "min           12.080000         0.000000       0.000000       3.000000\n",
       "25%           23.910000         0.000000       0.000000       6.000000\n",
       "50%           27.120000         0.000000       0.000000       7.000000\n",
       "75%           31.010000         0.000000       2.000000       8.000000\n",
       "max           47.370000        27.000000      27.000000      11.000000\n",
       "skewness       1.332431         2.603973       2.331112       0.679035\n",
       "kurtosis       3.890043         5.528450       4.403937       7.854869\n",
       "variance      40.400010        63.216019      63.285767       2.062116"
      ]
     },
     "execution_count": 35,
     "metadata": {},
     "output_type": "execute_result"
    }
   ],
   "source": [
    "filtered_analysis = df_filtered.describe()\n",
    "filtered_analysis.loc['skewness'] = df.skew()\n",
    "filtered_analysis.loc['kurtosis'] = df.kurt()\n",
    "filtered_analysis.loc['variance'] = df.var()\n",
    "filtered_analysis"
   ]
  },
  {
   "cell_type": "code",
   "execution_count": 36,
   "id": "a5b2a881",
   "metadata": {},
   "outputs": [
    {
     "data": {
      "text/html": [
       "<div>\n",
       "<style scoped>\n",
       "    .dataframe tbody tr th:only-of-type {\n",
       "        vertical-align: middle;\n",
       "    }\n",
       "\n",
       "    .dataframe tbody tr th {\n",
       "        vertical-align: top;\n",
       "    }\n",
       "\n",
       "    .dataframe thead th {\n",
       "        text-align: right;\n",
       "    }\n",
       "</style>\n",
       "<table border=\"1\" class=\"dataframe\">\n",
       "  <thead>\n",
       "    <tr style=\"text-align: right;\">\n",
       "      <th></th>\n",
       "      <th>bmi</th>\n",
       "      <th>physical_health</th>\n",
       "      <th>mental_health</th>\n",
       "      <th>sleep_time</th>\n",
       "    </tr>\n",
       "  </thead>\n",
       "  <tbody>\n",
       "    <tr>\n",
       "      <th>count</th>\n",
       "      <td>319795.000000</td>\n",
       "      <td>319795.000000</td>\n",
       "      <td>319795.000000</td>\n",
       "      <td>319795.000000</td>\n",
       "    </tr>\n",
       "    <tr>\n",
       "      <th>mean</th>\n",
       "      <td>28.325399</td>\n",
       "      <td>3.371710</td>\n",
       "      <td>3.898366</td>\n",
       "      <td>7.097075</td>\n",
       "    </tr>\n",
       "    <tr>\n",
       "      <th>std</th>\n",
       "      <td>6.356100</td>\n",
       "      <td>7.950850</td>\n",
       "      <td>7.955235</td>\n",
       "      <td>1.436007</td>\n",
       "    </tr>\n",
       "    <tr>\n",
       "      <th>min</th>\n",
       "      <td>12.020000</td>\n",
       "      <td>0.000000</td>\n",
       "      <td>0.000000</td>\n",
       "      <td>1.000000</td>\n",
       "    </tr>\n",
       "    <tr>\n",
       "      <th>25%</th>\n",
       "      <td>24.030000</td>\n",
       "      <td>0.000000</td>\n",
       "      <td>0.000000</td>\n",
       "      <td>6.000000</td>\n",
       "    </tr>\n",
       "    <tr>\n",
       "      <th>50%</th>\n",
       "      <td>27.340000</td>\n",
       "      <td>0.000000</td>\n",
       "      <td>0.000000</td>\n",
       "      <td>7.000000</td>\n",
       "    </tr>\n",
       "    <tr>\n",
       "      <th>75%</th>\n",
       "      <td>31.420000</td>\n",
       "      <td>2.000000</td>\n",
       "      <td>3.000000</td>\n",
       "      <td>8.000000</td>\n",
       "    </tr>\n",
       "    <tr>\n",
       "      <th>max</th>\n",
       "      <td>94.850000</td>\n",
       "      <td>30.000000</td>\n",
       "      <td>30.000000</td>\n",
       "      <td>24.000000</td>\n",
       "    </tr>\n",
       "    <tr>\n",
       "      <th>skewness</th>\n",
       "      <td>1.332431</td>\n",
       "      <td>2.603973</td>\n",
       "      <td>2.331112</td>\n",
       "      <td>0.679035</td>\n",
       "    </tr>\n",
       "    <tr>\n",
       "      <th>kurtosis</th>\n",
       "      <td>3.890043</td>\n",
       "      <td>5.528450</td>\n",
       "      <td>4.403937</td>\n",
       "      <td>7.854869</td>\n",
       "    </tr>\n",
       "    <tr>\n",
       "      <th>variance</th>\n",
       "      <td>40.400010</td>\n",
       "      <td>63.216019</td>\n",
       "      <td>63.285767</td>\n",
       "      <td>2.062116</td>\n",
       "    </tr>\n",
       "  </tbody>\n",
       "</table>\n",
       "</div>"
      ],
      "text/plain": [
       "                    bmi  physical_health  mental_health     sleep_time\n",
       "count     319795.000000    319795.000000  319795.000000  319795.000000\n",
       "mean          28.325399         3.371710       3.898366       7.097075\n",
       "std            6.356100         7.950850       7.955235       1.436007\n",
       "min           12.020000         0.000000       0.000000       1.000000\n",
       "25%           24.030000         0.000000       0.000000       6.000000\n",
       "50%           27.340000         0.000000       0.000000       7.000000\n",
       "75%           31.420000         2.000000       3.000000       8.000000\n",
       "max           94.850000        30.000000      30.000000      24.000000\n",
       "skewness       1.332431         2.603973       2.331112       0.679035\n",
       "kurtosis       3.890043         5.528450       4.403937       7.854869\n",
       "variance      40.400010        63.216019      63.285767       2.062116"
      ]
     },
     "execution_count": 36,
     "metadata": {},
     "output_type": "execute_result"
    }
   ],
   "source": [
    "statical_analysis = df.describe()\n",
    "statical_analysis.loc['skewness'] = df.skew()\n",
    "statical_analysis.loc['kurtosis'] = df.kurt()\n",
    "statical_analysis.loc['variance'] = df.var()\n",
    "statical_analysis"
   ]
  },
  {
   "cell_type": "code",
   "execution_count": 37,
   "id": "258d51e0",
   "metadata": {},
   "outputs": [
    {
     "data": {
      "text/plain": [
       "(319795, 18)"
      ]
     },
     "execution_count": 37,
     "metadata": {},
     "output_type": "execute_result"
    }
   ],
   "source": [
    "df.shape"
   ]
  },
  {
   "cell_type": "code",
   "execution_count": 38,
   "id": "0467444c",
   "metadata": {},
   "outputs": [
    {
     "data": {
      "text/plain": [
       "(23, 18)"
      ]
     },
     "execution_count": 38,
     "metadata": {},
     "output_type": "execute_result"
    }
   ],
   "source": [
    "df_outliers.shape"
   ]
  },
  {
   "cell_type": "code",
   "execution_count": 39,
   "id": "d9631a07",
   "metadata": {},
   "outputs": [
    {
     "data": {
      "text/plain": [
       "(280293, 18)"
      ]
     },
     "execution_count": 39,
     "metadata": {},
     "output_type": "execute_result"
    }
   ],
   "source": [
    "df_filtered.shape"
   ]
  },
  {
   "cell_type": "code",
   "execution_count": 40,
   "id": "514a4f84",
   "metadata": {},
   "outputs": [],
   "source": [
    "# assign df_filtered (no outliers) as the main dataframe (df)\n",
    "df = df_filtered\n",
    "df_2 = df.copy()"
   ]
  },
  {
   "cell_type": "markdown",
   "id": "922a0faf",
   "metadata": {},
   "source": [
    "## Correlation"
   ]
  },
  {
   "cell_type": "markdown",
   "id": "9cb448e3",
   "metadata": {},
   "source": [
    "Pearson correlation to see how the numeric columns are related with each other"
   ]
  },
  {
   "cell_type": "code",
   "execution_count": 41,
   "id": "df91177b",
   "metadata": {},
   "outputs": [
    {
     "data": {
      "text/html": [
       "<div>\n",
       "<style scoped>\n",
       "    .dataframe tbody tr th:only-of-type {\n",
       "        vertical-align: middle;\n",
       "    }\n",
       "\n",
       "    .dataframe tbody tr th {\n",
       "        vertical-align: top;\n",
       "    }\n",
       "\n",
       "    .dataframe thead th {\n",
       "        text-align: right;\n",
       "    }\n",
       "</style>\n",
       "<table border=\"1\" class=\"dataframe\">\n",
       "  <thead>\n",
       "    <tr style=\"text-align: right;\">\n",
       "      <th></th>\n",
       "      <th>bmi</th>\n",
       "      <th>physical_health</th>\n",
       "      <th>mental_health</th>\n",
       "      <th>sleep_time</th>\n",
       "    </tr>\n",
       "  </thead>\n",
       "  <tbody>\n",
       "    <tr>\n",
       "      <th>bmi</th>\n",
       "      <td>1.000000</td>\n",
       "      <td>0.071748</td>\n",
       "      <td>0.026990</td>\n",
       "      <td>-0.062066</td>\n",
       "    </tr>\n",
       "    <tr>\n",
       "      <th>physical_health</th>\n",
       "      <td>0.071748</td>\n",
       "      <td>1.000000</td>\n",
       "      <td>0.217057</td>\n",
       "      <td>-0.059402</td>\n",
       "    </tr>\n",
       "    <tr>\n",
       "      <th>mental_health</th>\n",
       "      <td>0.026990</td>\n",
       "      <td>0.217057</td>\n",
       "      <td>1.000000</td>\n",
       "      <td>-0.104951</td>\n",
       "    </tr>\n",
       "    <tr>\n",
       "      <th>sleep_time</th>\n",
       "      <td>-0.062066</td>\n",
       "      <td>-0.059402</td>\n",
       "      <td>-0.104951</td>\n",
       "      <td>1.000000</td>\n",
       "    </tr>\n",
       "  </tbody>\n",
       "</table>\n",
       "</div>"
      ],
      "text/plain": [
       "                      bmi  physical_health  mental_health  sleep_time\n",
       "bmi              1.000000         0.071748       0.026990   -0.062066\n",
       "physical_health  0.071748         1.000000       0.217057   -0.059402\n",
       "mental_health    0.026990         0.217057       1.000000   -0.104951\n",
       "sleep_time      -0.062066        -0.059402      -0.104951    1.000000"
      ]
     },
     "execution_count": 41,
     "metadata": {},
     "output_type": "execute_result"
    }
   ],
   "source": [
    "df.corr(method='pearson')"
   ]
  },
  {
   "cell_type": "markdown",
   "id": "87a25ca8",
   "metadata": {},
   "source": [
    "As we have both of numerical and categorical data in out dataset, that's why we can use the Cramér's V statistic or Theil’s U statistic. These statistics can measure the association between categorical variables."
   ]
  },
  {
   "cell_type": "markdown",
   "id": "7474d0a2",
   "metadata": {},
   "source": [
    "# Emcoding"
   ]
  },
  {
   "cell_type": "code",
   "execution_count": 42,
   "id": "66d0d578",
   "metadata": {
    "scrolled": true
   },
   "outputs": [
    {
     "name": "stdout",
     "output_type": "stream",
     "text": [
      "HeartDisease  :  ['No' 'Yes']\n",
      "Smoking  :  ['Yes' 'No']\n",
      "AlcoholDrinking  :  ['No' 'Yes']\n",
      "Stroke  :  ['No' 'Yes']\n",
      "DiffWalking  :  ['No' 'Yes']\n",
      "Sex  :  ['Female' 'Male']\n",
      "AgeCategory  :  ['55-59' '80 or older' '65-69' '75-79' '40-44' '70-74' '60-64' '50-54'\n",
      " '45-49' '18-24' '35-39' '30-34' '25-29']\n",
      "Race  :  ['White' 'Black' 'Asian' 'American Indian/Alaskan Native' 'Other'\n",
      " 'Hispanic']\n",
      "Diabetic  :  ['Yes' 'No' 'No, borderline diabetes' 'Yes (during pregnancy)']\n",
      "PhysicalActivity  :  ['Yes' 'No']\n",
      "GenHealth  :  ['Very good' 'Fair' 'Good' 'Poor' 'Excellent']\n",
      "Asthma  :  ['Yes' 'No']\n",
      "KidneyDisease  :  ['No' 'Yes']\n",
      "SkinCancer  :  ['Yes' 'No']\n"
     ]
    }
   ],
   "source": [
    "# checking unique values of the categorical columns:\n",
    "from pandas.core.dtypes.common import is_numeric_dtype\n",
    "for col in df_copy.columns:\n",
    "    if is_numeric_dtype(df_copy[col]):\n",
    "        continue\n",
    "    else:\n",
    "        unique = df_copy[col].unique()\n",
    "        print(col, \" : \", unique)"
   ]
  },
  {
   "cell_type": "code",
   "execution_count": null,
   "id": "484c4ae8",
   "metadata": {},
   "outputs": [],
   "source": []
  },
  {
   "cell_type": "code",
   "execution_count": 43,
   "id": "5da278de",
   "metadata": {},
   "outputs": [],
   "source": [
    "col_bool = ['heart_disease','smoking','alcohol_drinking','stroke','diff_walking','physical_activity','asthma','kidney_disease','skin_cancer']\n",
    "col_ordinal = ['gen_health']\n",
    "col_categorical = ['sex', 'age_category', 'race', 'diabetic']\n",
    "\n",
    "from sklearn.preprocessing import LabelEncoder, OrdinalEncoder, OneHotEncoder\n",
    "\n",
    "from pandas.core.dtypes.common import is_numeric_dtype\n",
    "\n",
    "# Label Encoding the Boolean Columns:\n",
    "le  = LabelEncoder()\n",
    "\n",
    "for col in col_bool:\n",
    "    if is_numeric_dtype(df[col]):\n",
    "        continue\n",
    "    else:\n",
    "        df[col] = le.fit_transform(df[col])\n",
    "        \n",
    "# Ornal Encoding the ordinal column:\n",
    "order = ['Poor', 'Fair', 'Good', 'Very good', 'Excellent']\n",
    "ordinal_encoder = OrdinalEncoder(categories=[order])\n",
    "df['gen_health'] = ordinal_encoder.fit_transform(df[['gen_health']])\n",
    "\n",
    "# OneHot Encoding for the other columns contain more than two non-ordinal categories\n",
    "one_hot_encoder = OneHotEncoder()\n",
    "\n",
    "for col in col_categorical:\n",
    "    dummy_col = pd.get_dummies(df[col], prefix=col)\n",
    "    df.drop(col, axis=1, inplace=True)\n",
    "    df = pd.concat([df, dummy_col], axis=1)"
   ]
  },
  {
   "cell_type": "code",
   "execution_count": 44,
   "id": "35f1b206",
   "metadata": {
    "scrolled": false
   },
   "outputs": [
    {
     "data": {
      "text/html": [
       "<div>\n",
       "<style scoped>\n",
       "    .dataframe tbody tr th:only-of-type {\n",
       "        vertical-align: middle;\n",
       "    }\n",
       "\n",
       "    .dataframe tbody tr th {\n",
       "        vertical-align: top;\n",
       "    }\n",
       "\n",
       "    .dataframe thead th {\n",
       "        text-align: right;\n",
       "    }\n",
       "</style>\n",
       "<table border=\"1\" class=\"dataframe\">\n",
       "  <thead>\n",
       "    <tr style=\"text-align: right;\">\n",
       "      <th></th>\n",
       "      <th>heart_disease</th>\n",
       "      <th>bmi</th>\n",
       "      <th>smoking</th>\n",
       "      <th>alcohol_drinking</th>\n",
       "      <th>stroke</th>\n",
       "      <th>physical_health</th>\n",
       "      <th>mental_health</th>\n",
       "      <th>diff_walking</th>\n",
       "      <th>physical_activity</th>\n",
       "      <th>gen_health</th>\n",
       "      <th>sleep_time</th>\n",
       "      <th>asthma</th>\n",
       "      <th>kidney_disease</th>\n",
       "      <th>skin_cancer</th>\n",
       "      <th>sex_Female</th>\n",
       "      <th>sex_Male</th>\n",
       "      <th>age_category_18-24</th>\n",
       "      <th>age_category_25-29</th>\n",
       "      <th>age_category_30-34</th>\n",
       "      <th>age_category_35-39</th>\n",
       "      <th>age_category_40-44</th>\n",
       "      <th>age_category_45-49</th>\n",
       "      <th>age_category_50-54</th>\n",
       "      <th>age_category_55-59</th>\n",
       "      <th>age_category_60-64</th>\n",
       "      <th>age_category_65-69</th>\n",
       "      <th>age_category_70-74</th>\n",
       "      <th>age_category_75-79</th>\n",
       "      <th>age_category_80 or older</th>\n",
       "      <th>race_American Indian/Alaskan Native</th>\n",
       "      <th>race_Asian</th>\n",
       "      <th>race_Black</th>\n",
       "      <th>race_Hispanic</th>\n",
       "      <th>race_Other</th>\n",
       "      <th>race_White</th>\n",
       "      <th>diabetic_No</th>\n",
       "      <th>diabetic_No, borderline diabetes</th>\n",
       "      <th>diabetic_Yes</th>\n",
       "      <th>diabetic_Yes (during pregnancy)</th>\n",
       "    </tr>\n",
       "  </thead>\n",
       "  <tbody>\n",
       "    <tr>\n",
       "      <th>1</th>\n",
       "      <td>0</td>\n",
       "      <td>20.34</td>\n",
       "      <td>0</td>\n",
       "      <td>0</td>\n",
       "      <td>1</td>\n",
       "      <td>0</td>\n",
       "      <td>0</td>\n",
       "      <td>0</td>\n",
       "      <td>1</td>\n",
       "      <td>3.0</td>\n",
       "      <td>7</td>\n",
       "      <td>0</td>\n",
       "      <td>0</td>\n",
       "      <td>0</td>\n",
       "      <td>1</td>\n",
       "      <td>0</td>\n",
       "      <td>0</td>\n",
       "      <td>0</td>\n",
       "      <td>0</td>\n",
       "      <td>0</td>\n",
       "      <td>0</td>\n",
       "      <td>0</td>\n",
       "      <td>0</td>\n",
       "      <td>0</td>\n",
       "      <td>0</td>\n",
       "      <td>0</td>\n",
       "      <td>0</td>\n",
       "      <td>0</td>\n",
       "      <td>1</td>\n",
       "      <td>0</td>\n",
       "      <td>0</td>\n",
       "      <td>0</td>\n",
       "      <td>0</td>\n",
       "      <td>0</td>\n",
       "      <td>1</td>\n",
       "      <td>1</td>\n",
       "      <td>0</td>\n",
       "      <td>0</td>\n",
       "      <td>0</td>\n",
       "    </tr>\n",
       "    <tr>\n",
       "      <th>3</th>\n",
       "      <td>0</td>\n",
       "      <td>24.21</td>\n",
       "      <td>0</td>\n",
       "      <td>0</td>\n",
       "      <td>0</td>\n",
       "      <td>0</td>\n",
       "      <td>0</td>\n",
       "      <td>0</td>\n",
       "      <td>0</td>\n",
       "      <td>2.0</td>\n",
       "      <td>6</td>\n",
       "      <td>0</td>\n",
       "      <td>0</td>\n",
       "      <td>1</td>\n",
       "      <td>1</td>\n",
       "      <td>0</td>\n",
       "      <td>0</td>\n",
       "      <td>0</td>\n",
       "      <td>0</td>\n",
       "      <td>0</td>\n",
       "      <td>0</td>\n",
       "      <td>0</td>\n",
       "      <td>0</td>\n",
       "      <td>0</td>\n",
       "      <td>0</td>\n",
       "      <td>0</td>\n",
       "      <td>0</td>\n",
       "      <td>1</td>\n",
       "      <td>0</td>\n",
       "      <td>0</td>\n",
       "      <td>0</td>\n",
       "      <td>0</td>\n",
       "      <td>0</td>\n",
       "      <td>0</td>\n",
       "      <td>1</td>\n",
       "      <td>1</td>\n",
       "      <td>0</td>\n",
       "      <td>0</td>\n",
       "      <td>0</td>\n",
       "    </tr>\n",
       "    <tr>\n",
       "      <th>6</th>\n",
       "      <td>0</td>\n",
       "      <td>21.63</td>\n",
       "      <td>0</td>\n",
       "      <td>0</td>\n",
       "      <td>0</td>\n",
       "      <td>15</td>\n",
       "      <td>0</td>\n",
       "      <td>0</td>\n",
       "      <td>1</td>\n",
       "      <td>1.0</td>\n",
       "      <td>4</td>\n",
       "      <td>1</td>\n",
       "      <td>0</td>\n",
       "      <td>1</td>\n",
       "      <td>1</td>\n",
       "      <td>0</td>\n",
       "      <td>0</td>\n",
       "      <td>0</td>\n",
       "      <td>0</td>\n",
       "      <td>0</td>\n",
       "      <td>0</td>\n",
       "      <td>0</td>\n",
       "      <td>0</td>\n",
       "      <td>0</td>\n",
       "      <td>0</td>\n",
       "      <td>0</td>\n",
       "      <td>1</td>\n",
       "      <td>0</td>\n",
       "      <td>0</td>\n",
       "      <td>0</td>\n",
       "      <td>0</td>\n",
       "      <td>0</td>\n",
       "      <td>0</td>\n",
       "      <td>0</td>\n",
       "      <td>1</td>\n",
       "      <td>1</td>\n",
       "      <td>0</td>\n",
       "      <td>0</td>\n",
       "      <td>0</td>\n",
       "    </tr>\n",
       "    <tr>\n",
       "      <th>7</th>\n",
       "      <td>0</td>\n",
       "      <td>31.64</td>\n",
       "      <td>1</td>\n",
       "      <td>0</td>\n",
       "      <td>0</td>\n",
       "      <td>5</td>\n",
       "      <td>0</td>\n",
       "      <td>1</td>\n",
       "      <td>0</td>\n",
       "      <td>2.0</td>\n",
       "      <td>9</td>\n",
       "      <td>1</td>\n",
       "      <td>0</td>\n",
       "      <td>0</td>\n",
       "      <td>1</td>\n",
       "      <td>0</td>\n",
       "      <td>0</td>\n",
       "      <td>0</td>\n",
       "      <td>0</td>\n",
       "      <td>0</td>\n",
       "      <td>0</td>\n",
       "      <td>0</td>\n",
       "      <td>0</td>\n",
       "      <td>0</td>\n",
       "      <td>0</td>\n",
       "      <td>0</td>\n",
       "      <td>0</td>\n",
       "      <td>0</td>\n",
       "      <td>1</td>\n",
       "      <td>0</td>\n",
       "      <td>0</td>\n",
       "      <td>0</td>\n",
       "      <td>0</td>\n",
       "      <td>0</td>\n",
       "      <td>1</td>\n",
       "      <td>0</td>\n",
       "      <td>0</td>\n",
       "      <td>1</td>\n",
       "      <td>0</td>\n",
       "    </tr>\n",
       "    <tr>\n",
       "      <th>8</th>\n",
       "      <td>0</td>\n",
       "      <td>26.45</td>\n",
       "      <td>0</td>\n",
       "      <td>0</td>\n",
       "      <td>0</td>\n",
       "      <td>0</td>\n",
       "      <td>0</td>\n",
       "      <td>0</td>\n",
       "      <td>0</td>\n",
       "      <td>1.0</td>\n",
       "      <td>5</td>\n",
       "      <td>0</td>\n",
       "      <td>1</td>\n",
       "      <td>0</td>\n",
       "      <td>1</td>\n",
       "      <td>0</td>\n",
       "      <td>0</td>\n",
       "      <td>0</td>\n",
       "      <td>0</td>\n",
       "      <td>0</td>\n",
       "      <td>0</td>\n",
       "      <td>0</td>\n",
       "      <td>0</td>\n",
       "      <td>0</td>\n",
       "      <td>0</td>\n",
       "      <td>0</td>\n",
       "      <td>0</td>\n",
       "      <td>0</td>\n",
       "      <td>1</td>\n",
       "      <td>0</td>\n",
       "      <td>0</td>\n",
       "      <td>0</td>\n",
       "      <td>0</td>\n",
       "      <td>0</td>\n",
       "      <td>1</td>\n",
       "      <td>0</td>\n",
       "      <td>1</td>\n",
       "      <td>0</td>\n",
       "      <td>0</td>\n",
       "    </tr>\n",
       "  </tbody>\n",
       "</table>\n",
       "</div>"
      ],
      "text/plain": [
       "   heart_disease    bmi  smoking  alcohol_drinking  stroke  physical_health  \\\n",
       "1              0  20.34        0                 0       1                0   \n",
       "3              0  24.21        0                 0       0                0   \n",
       "6              0  21.63        0                 0       0               15   \n",
       "7              0  31.64        1                 0       0                5   \n",
       "8              0  26.45        0                 0       0                0   \n",
       "\n",
       "   mental_health  diff_walking  physical_activity  gen_health  sleep_time  \\\n",
       "1              0             0                  1         3.0           7   \n",
       "3              0             0                  0         2.0           6   \n",
       "6              0             0                  1         1.0           4   \n",
       "7              0             1                  0         2.0           9   \n",
       "8              0             0                  0         1.0           5   \n",
       "\n",
       "   asthma  kidney_disease  skin_cancer  sex_Female  sex_Male  \\\n",
       "1       0               0            0           1         0   \n",
       "3       0               0            1           1         0   \n",
       "6       1               0            1           1         0   \n",
       "7       1               0            0           1         0   \n",
       "8       0               1            0           1         0   \n",
       "\n",
       "   age_category_18-24  age_category_25-29  age_category_30-34  \\\n",
       "1                   0                   0                   0   \n",
       "3                   0                   0                   0   \n",
       "6                   0                   0                   0   \n",
       "7                   0                   0                   0   \n",
       "8                   0                   0                   0   \n",
       "\n",
       "   age_category_35-39  age_category_40-44  age_category_45-49  \\\n",
       "1                   0                   0                   0   \n",
       "3                   0                   0                   0   \n",
       "6                   0                   0                   0   \n",
       "7                   0                   0                   0   \n",
       "8                   0                   0                   0   \n",
       "\n",
       "   age_category_50-54  age_category_55-59  age_category_60-64  \\\n",
       "1                   0                   0                   0   \n",
       "3                   0                   0                   0   \n",
       "6                   0                   0                   0   \n",
       "7                   0                   0                   0   \n",
       "8                   0                   0                   0   \n",
       "\n",
       "   age_category_65-69  age_category_70-74  age_category_75-79  \\\n",
       "1                   0                   0                   0   \n",
       "3                   0                   0                   1   \n",
       "6                   0                   1                   0   \n",
       "7                   0                   0                   0   \n",
       "8                   0                   0                   0   \n",
       "\n",
       "   age_category_80 or older  race_American Indian/Alaskan Native  race_Asian  \\\n",
       "1                         1                                    0           0   \n",
       "3                         0                                    0           0   \n",
       "6                         0                                    0           0   \n",
       "7                         1                                    0           0   \n",
       "8                         1                                    0           0   \n",
       "\n",
       "   race_Black  race_Hispanic  race_Other  race_White  diabetic_No  \\\n",
       "1           0              0           0           1            1   \n",
       "3           0              0           0           1            1   \n",
       "6           0              0           0           1            1   \n",
       "7           0              0           0           1            0   \n",
       "8           0              0           0           1            0   \n",
       "\n",
       "   diabetic_No, borderline diabetes  diabetic_Yes  \\\n",
       "1                                 0             0   \n",
       "3                                 0             0   \n",
       "6                                 0             0   \n",
       "7                                 0             1   \n",
       "8                                 1             0   \n",
       "\n",
       "   diabetic_Yes (during pregnancy)  \n",
       "1                                0  \n",
       "3                                0  \n",
       "6                                0  \n",
       "7                                0  \n",
       "8                                0  "
      ]
     },
     "execution_count": 44,
     "metadata": {},
     "output_type": "execute_result"
    }
   ],
   "source": [
    "pd.set_option('display.max_columns', None)\n",
    "df.head()"
   ]
  },
  {
   "cell_type": "code",
   "execution_count": 45,
   "id": "e0c98e5f",
   "metadata": {
    "scrolled": true
   },
   "outputs": [
    {
     "data": {
      "text/plain": [
       "Index(['heart_disease', 'bmi', 'smoking', 'alcohol_drinking', 'stroke',\n",
       "       'physical_health', 'mental_health', 'diff_walking', 'physical_activity',\n",
       "       'gen_health', 'sleep_time', 'asthma', 'kidney_disease', 'skin_cancer',\n",
       "       'sex_Female', 'sex_Male', 'age_category_18-24', 'age_category_25-29',\n",
       "       'age_category_30-34', 'age_category_35-39', 'age_category_40-44',\n",
       "       'age_category_45-49', 'age_category_50-54', 'age_category_55-59',\n",
       "       'age_category_60-64', 'age_category_65-69', 'age_category_70-74',\n",
       "       'age_category_75-79', 'age_category_80 or older',\n",
       "       'race_American Indian/Alaskan Native', 'race_Asian', 'race_Black',\n",
       "       'race_Hispanic', 'race_Other', 'race_White', 'diabetic_No',\n",
       "       'diabetic_No, borderline diabetes', 'diabetic_Yes',\n",
       "       'diabetic_Yes (during pregnancy)'],\n",
       "      dtype='object')"
      ]
     },
     "execution_count": 45,
     "metadata": {},
     "output_type": "execute_result"
    }
   ],
   "source": [
    "df.columns"
   ]
  },
  {
   "cell_type": "markdown",
   "id": "7ac1f11c",
   "metadata": {},
   "source": [
    "# Spliting Features and Labels"
   ]
  },
  {
   "cell_type": "code",
   "execution_count": 46,
   "id": "eb7df3ab",
   "metadata": {},
   "outputs": [],
   "source": [
    "x = df.drop('heart_disease', axis=1)\n",
    "y = df[['heart_disease']]"
   ]
  },
  {
   "cell_type": "code",
   "execution_count": 47,
   "id": "b80207b1",
   "metadata": {},
   "outputs": [
    {
     "data": {
      "text/plain": [
       "(280293, 38)"
      ]
     },
     "execution_count": 47,
     "metadata": {},
     "output_type": "execute_result"
    }
   ],
   "source": [
    "x.shape"
   ]
  },
  {
   "cell_type": "code",
   "execution_count": 48,
   "id": "fd2649e2",
   "metadata": {
    "scrolled": true
   },
   "outputs": [
    {
     "data": {
      "text/html": [
       "<div>\n",
       "<style scoped>\n",
       "    .dataframe tbody tr th:only-of-type {\n",
       "        vertical-align: middle;\n",
       "    }\n",
       "\n",
       "    .dataframe tbody tr th {\n",
       "        vertical-align: top;\n",
       "    }\n",
       "\n",
       "    .dataframe thead th {\n",
       "        text-align: right;\n",
       "    }\n",
       "</style>\n",
       "<table border=\"1\" class=\"dataframe\">\n",
       "  <thead>\n",
       "    <tr style=\"text-align: right;\">\n",
       "      <th></th>\n",
       "      <th>bmi</th>\n",
       "      <th>smoking</th>\n",
       "      <th>alcohol_drinking</th>\n",
       "      <th>stroke</th>\n",
       "      <th>physical_health</th>\n",
       "      <th>mental_health</th>\n",
       "      <th>diff_walking</th>\n",
       "      <th>physical_activity</th>\n",
       "      <th>gen_health</th>\n",
       "      <th>sleep_time</th>\n",
       "      <th>asthma</th>\n",
       "      <th>kidney_disease</th>\n",
       "      <th>skin_cancer</th>\n",
       "      <th>sex_Female</th>\n",
       "      <th>sex_Male</th>\n",
       "      <th>age_category_18-24</th>\n",
       "      <th>age_category_25-29</th>\n",
       "      <th>age_category_30-34</th>\n",
       "      <th>age_category_35-39</th>\n",
       "      <th>age_category_40-44</th>\n",
       "      <th>age_category_45-49</th>\n",
       "      <th>age_category_50-54</th>\n",
       "      <th>age_category_55-59</th>\n",
       "      <th>age_category_60-64</th>\n",
       "      <th>age_category_65-69</th>\n",
       "      <th>age_category_70-74</th>\n",
       "      <th>age_category_75-79</th>\n",
       "      <th>age_category_80 or older</th>\n",
       "      <th>race_American Indian/Alaskan Native</th>\n",
       "      <th>race_Asian</th>\n",
       "      <th>race_Black</th>\n",
       "      <th>race_Hispanic</th>\n",
       "      <th>race_Other</th>\n",
       "      <th>race_White</th>\n",
       "      <th>diabetic_No</th>\n",
       "      <th>diabetic_No, borderline diabetes</th>\n",
       "      <th>diabetic_Yes</th>\n",
       "      <th>diabetic_Yes (during pregnancy)</th>\n",
       "    </tr>\n",
       "  </thead>\n",
       "  <tbody>\n",
       "    <tr>\n",
       "      <th>1</th>\n",
       "      <td>20.34</td>\n",
       "      <td>0</td>\n",
       "      <td>0</td>\n",
       "      <td>1</td>\n",
       "      <td>0</td>\n",
       "      <td>0</td>\n",
       "      <td>0</td>\n",
       "      <td>1</td>\n",
       "      <td>3.0</td>\n",
       "      <td>7</td>\n",
       "      <td>0</td>\n",
       "      <td>0</td>\n",
       "      <td>0</td>\n",
       "      <td>1</td>\n",
       "      <td>0</td>\n",
       "      <td>0</td>\n",
       "      <td>0</td>\n",
       "      <td>0</td>\n",
       "      <td>0</td>\n",
       "      <td>0</td>\n",
       "      <td>0</td>\n",
       "      <td>0</td>\n",
       "      <td>0</td>\n",
       "      <td>0</td>\n",
       "      <td>0</td>\n",
       "      <td>0</td>\n",
       "      <td>0</td>\n",
       "      <td>1</td>\n",
       "      <td>0</td>\n",
       "      <td>0</td>\n",
       "      <td>0</td>\n",
       "      <td>0</td>\n",
       "      <td>0</td>\n",
       "      <td>1</td>\n",
       "      <td>1</td>\n",
       "      <td>0</td>\n",
       "      <td>0</td>\n",
       "      <td>0</td>\n",
       "    </tr>\n",
       "    <tr>\n",
       "      <th>3</th>\n",
       "      <td>24.21</td>\n",
       "      <td>0</td>\n",
       "      <td>0</td>\n",
       "      <td>0</td>\n",
       "      <td>0</td>\n",
       "      <td>0</td>\n",
       "      <td>0</td>\n",
       "      <td>0</td>\n",
       "      <td>2.0</td>\n",
       "      <td>6</td>\n",
       "      <td>0</td>\n",
       "      <td>0</td>\n",
       "      <td>1</td>\n",
       "      <td>1</td>\n",
       "      <td>0</td>\n",
       "      <td>0</td>\n",
       "      <td>0</td>\n",
       "      <td>0</td>\n",
       "      <td>0</td>\n",
       "      <td>0</td>\n",
       "      <td>0</td>\n",
       "      <td>0</td>\n",
       "      <td>0</td>\n",
       "      <td>0</td>\n",
       "      <td>0</td>\n",
       "      <td>0</td>\n",
       "      <td>1</td>\n",
       "      <td>0</td>\n",
       "      <td>0</td>\n",
       "      <td>0</td>\n",
       "      <td>0</td>\n",
       "      <td>0</td>\n",
       "      <td>0</td>\n",
       "      <td>1</td>\n",
       "      <td>1</td>\n",
       "      <td>0</td>\n",
       "      <td>0</td>\n",
       "      <td>0</td>\n",
       "    </tr>\n",
       "    <tr>\n",
       "      <th>6</th>\n",
       "      <td>21.63</td>\n",
       "      <td>0</td>\n",
       "      <td>0</td>\n",
       "      <td>0</td>\n",
       "      <td>15</td>\n",
       "      <td>0</td>\n",
       "      <td>0</td>\n",
       "      <td>1</td>\n",
       "      <td>1.0</td>\n",
       "      <td>4</td>\n",
       "      <td>1</td>\n",
       "      <td>0</td>\n",
       "      <td>1</td>\n",
       "      <td>1</td>\n",
       "      <td>0</td>\n",
       "      <td>0</td>\n",
       "      <td>0</td>\n",
       "      <td>0</td>\n",
       "      <td>0</td>\n",
       "      <td>0</td>\n",
       "      <td>0</td>\n",
       "      <td>0</td>\n",
       "      <td>0</td>\n",
       "      <td>0</td>\n",
       "      <td>0</td>\n",
       "      <td>1</td>\n",
       "      <td>0</td>\n",
       "      <td>0</td>\n",
       "      <td>0</td>\n",
       "      <td>0</td>\n",
       "      <td>0</td>\n",
       "      <td>0</td>\n",
       "      <td>0</td>\n",
       "      <td>1</td>\n",
       "      <td>1</td>\n",
       "      <td>0</td>\n",
       "      <td>0</td>\n",
       "      <td>0</td>\n",
       "    </tr>\n",
       "    <tr>\n",
       "      <th>7</th>\n",
       "      <td>31.64</td>\n",
       "      <td>1</td>\n",
       "      <td>0</td>\n",
       "      <td>0</td>\n",
       "      <td>5</td>\n",
       "      <td>0</td>\n",
       "      <td>1</td>\n",
       "      <td>0</td>\n",
       "      <td>2.0</td>\n",
       "      <td>9</td>\n",
       "      <td>1</td>\n",
       "      <td>0</td>\n",
       "      <td>0</td>\n",
       "      <td>1</td>\n",
       "      <td>0</td>\n",
       "      <td>0</td>\n",
       "      <td>0</td>\n",
       "      <td>0</td>\n",
       "      <td>0</td>\n",
       "      <td>0</td>\n",
       "      <td>0</td>\n",
       "      <td>0</td>\n",
       "      <td>0</td>\n",
       "      <td>0</td>\n",
       "      <td>0</td>\n",
       "      <td>0</td>\n",
       "      <td>0</td>\n",
       "      <td>1</td>\n",
       "      <td>0</td>\n",
       "      <td>0</td>\n",
       "      <td>0</td>\n",
       "      <td>0</td>\n",
       "      <td>0</td>\n",
       "      <td>1</td>\n",
       "      <td>0</td>\n",
       "      <td>0</td>\n",
       "      <td>1</td>\n",
       "      <td>0</td>\n",
       "    </tr>\n",
       "    <tr>\n",
       "      <th>8</th>\n",
       "      <td>26.45</td>\n",
       "      <td>0</td>\n",
       "      <td>0</td>\n",
       "      <td>0</td>\n",
       "      <td>0</td>\n",
       "      <td>0</td>\n",
       "      <td>0</td>\n",
       "      <td>0</td>\n",
       "      <td>1.0</td>\n",
       "      <td>5</td>\n",
       "      <td>0</td>\n",
       "      <td>1</td>\n",
       "      <td>0</td>\n",
       "      <td>1</td>\n",
       "      <td>0</td>\n",
       "      <td>0</td>\n",
       "      <td>0</td>\n",
       "      <td>0</td>\n",
       "      <td>0</td>\n",
       "      <td>0</td>\n",
       "      <td>0</td>\n",
       "      <td>0</td>\n",
       "      <td>0</td>\n",
       "      <td>0</td>\n",
       "      <td>0</td>\n",
       "      <td>0</td>\n",
       "      <td>0</td>\n",
       "      <td>1</td>\n",
       "      <td>0</td>\n",
       "      <td>0</td>\n",
       "      <td>0</td>\n",
       "      <td>0</td>\n",
       "      <td>0</td>\n",
       "      <td>1</td>\n",
       "      <td>0</td>\n",
       "      <td>1</td>\n",
       "      <td>0</td>\n",
       "      <td>0</td>\n",
       "    </tr>\n",
       "  </tbody>\n",
       "</table>\n",
       "</div>"
      ],
      "text/plain": [
       "     bmi  smoking  alcohol_drinking  stroke  physical_health  mental_health  \\\n",
       "1  20.34        0                 0       1                0              0   \n",
       "3  24.21        0                 0       0                0              0   \n",
       "6  21.63        0                 0       0               15              0   \n",
       "7  31.64        1                 0       0                5              0   \n",
       "8  26.45        0                 0       0                0              0   \n",
       "\n",
       "   diff_walking  physical_activity  gen_health  sleep_time  asthma  \\\n",
       "1             0                  1         3.0           7       0   \n",
       "3             0                  0         2.0           6       0   \n",
       "6             0                  1         1.0           4       1   \n",
       "7             1                  0         2.0           9       1   \n",
       "8             0                  0         1.0           5       0   \n",
       "\n",
       "   kidney_disease  skin_cancer  sex_Female  sex_Male  age_category_18-24  \\\n",
       "1               0            0           1         0                   0   \n",
       "3               0            1           1         0                   0   \n",
       "6               0            1           1         0                   0   \n",
       "7               0            0           1         0                   0   \n",
       "8               1            0           1         0                   0   \n",
       "\n",
       "   age_category_25-29  age_category_30-34  age_category_35-39  \\\n",
       "1                   0                   0                   0   \n",
       "3                   0                   0                   0   \n",
       "6                   0                   0                   0   \n",
       "7                   0                   0                   0   \n",
       "8                   0                   0                   0   \n",
       "\n",
       "   age_category_40-44  age_category_45-49  age_category_50-54  \\\n",
       "1                   0                   0                   0   \n",
       "3                   0                   0                   0   \n",
       "6                   0                   0                   0   \n",
       "7                   0                   0                   0   \n",
       "8                   0                   0                   0   \n",
       "\n",
       "   age_category_55-59  age_category_60-64  age_category_65-69  \\\n",
       "1                   0                   0                   0   \n",
       "3                   0                   0                   0   \n",
       "6                   0                   0                   0   \n",
       "7                   0                   0                   0   \n",
       "8                   0                   0                   0   \n",
       "\n",
       "   age_category_70-74  age_category_75-79  age_category_80 or older  \\\n",
       "1                   0                   0                         1   \n",
       "3                   0                   1                         0   \n",
       "6                   1                   0                         0   \n",
       "7                   0                   0                         1   \n",
       "8                   0                   0                         1   \n",
       "\n",
       "   race_American Indian/Alaskan Native  race_Asian  race_Black  race_Hispanic  \\\n",
       "1                                    0           0           0              0   \n",
       "3                                    0           0           0              0   \n",
       "6                                    0           0           0              0   \n",
       "7                                    0           0           0              0   \n",
       "8                                    0           0           0              0   \n",
       "\n",
       "   race_Other  race_White  diabetic_No  diabetic_No, borderline diabetes  \\\n",
       "1           0           1            1                                 0   \n",
       "3           0           1            1                                 0   \n",
       "6           0           1            1                                 0   \n",
       "7           0           1            0                                 0   \n",
       "8           0           1            0                                 1   \n",
       "\n",
       "   diabetic_Yes  diabetic_Yes (during pregnancy)  \n",
       "1             0                                0  \n",
       "3             0                                0  \n",
       "6             0                                0  \n",
       "7             1                                0  \n",
       "8             0                                0  "
      ]
     },
     "execution_count": 48,
     "metadata": {},
     "output_type": "execute_result"
    }
   ],
   "source": [
    "x.head()"
   ]
  },
  {
   "cell_type": "code",
   "execution_count": 49,
   "id": "45f2e0c5",
   "metadata": {},
   "outputs": [
    {
     "data": {
      "text/plain": [
       "(280293, 1)"
      ]
     },
     "execution_count": 49,
     "metadata": {},
     "output_type": "execute_result"
    }
   ],
   "source": [
    "y.shape"
   ]
  },
  {
   "cell_type": "code",
   "execution_count": 50,
   "id": "96cf211a",
   "metadata": {},
   "outputs": [
    {
     "data": {
      "text/html": [
       "<div>\n",
       "<style scoped>\n",
       "    .dataframe tbody tr th:only-of-type {\n",
       "        vertical-align: middle;\n",
       "    }\n",
       "\n",
       "    .dataframe tbody tr th {\n",
       "        vertical-align: top;\n",
       "    }\n",
       "\n",
       "    .dataframe thead th {\n",
       "        text-align: right;\n",
       "    }\n",
       "</style>\n",
       "<table border=\"1\" class=\"dataframe\">\n",
       "  <thead>\n",
       "    <tr style=\"text-align: right;\">\n",
       "      <th></th>\n",
       "      <th>heart_disease</th>\n",
       "    </tr>\n",
       "  </thead>\n",
       "  <tbody>\n",
       "    <tr>\n",
       "      <th>1</th>\n",
       "      <td>0</td>\n",
       "    </tr>\n",
       "    <tr>\n",
       "      <th>3</th>\n",
       "      <td>0</td>\n",
       "    </tr>\n",
       "    <tr>\n",
       "      <th>6</th>\n",
       "      <td>0</td>\n",
       "    </tr>\n",
       "    <tr>\n",
       "      <th>7</th>\n",
       "      <td>0</td>\n",
       "    </tr>\n",
       "    <tr>\n",
       "      <th>8</th>\n",
       "      <td>0</td>\n",
       "    </tr>\n",
       "  </tbody>\n",
       "</table>\n",
       "</div>"
      ],
      "text/plain": [
       "   heart_disease\n",
       "1              0\n",
       "3              0\n",
       "6              0\n",
       "7              0\n",
       "8              0"
      ]
     },
     "execution_count": 50,
     "metadata": {},
     "output_type": "execute_result"
    }
   ],
   "source": [
    "y.head()"
   ]
  },
  {
   "cell_type": "markdown",
   "id": "cd0579df",
   "metadata": {},
   "source": [
    "# Feature Scaling "
   ]
  },
  {
   "cell_type": "code",
   "execution_count": 51,
   "id": "aa24ff75",
   "metadata": {},
   "outputs": [],
   "source": [
    "from sklearn.preprocessing import StandardScaler\n",
    "std_scaler = StandardScaler()\n",
    "\n",
    "cols_to_be_scaling = ['bmi', 'physical_health', 'mental_health', 'gen_health', 'sleep_time']\n",
    "\n",
    "for col in cols_to_be_scaling:\n",
    "    if is_numeric_dtype(x[col]):\n",
    "        x[col] = std_scaler.fit_transform(x[[col]])"
   ]
  },
  {
   "cell_type": "code",
   "execution_count": 52,
   "id": "c3c8e97b",
   "metadata": {
    "scrolled": false
   },
   "outputs": [
    {
     "data": {
      "text/html": [
       "<div>\n",
       "<style scoped>\n",
       "    .dataframe tbody tr th:only-of-type {\n",
       "        vertical-align: middle;\n",
       "    }\n",
       "\n",
       "    .dataframe tbody tr th {\n",
       "        vertical-align: top;\n",
       "    }\n",
       "\n",
       "    .dataframe thead th {\n",
       "        text-align: right;\n",
       "    }\n",
       "</style>\n",
       "<table border=\"1\" class=\"dataframe\">\n",
       "  <thead>\n",
       "    <tr style=\"text-align: right;\">\n",
       "      <th></th>\n",
       "      <th>bmi</th>\n",
       "      <th>smoking</th>\n",
       "      <th>alcohol_drinking</th>\n",
       "      <th>stroke</th>\n",
       "      <th>physical_health</th>\n",
       "      <th>mental_health</th>\n",
       "      <th>diff_walking</th>\n",
       "      <th>physical_activity</th>\n",
       "      <th>gen_health</th>\n",
       "      <th>sleep_time</th>\n",
       "      <th>asthma</th>\n",
       "      <th>kidney_disease</th>\n",
       "      <th>skin_cancer</th>\n",
       "      <th>sex_Female</th>\n",
       "      <th>sex_Male</th>\n",
       "      <th>age_category_18-24</th>\n",
       "      <th>age_category_25-29</th>\n",
       "      <th>age_category_30-34</th>\n",
       "      <th>age_category_35-39</th>\n",
       "      <th>age_category_40-44</th>\n",
       "      <th>age_category_45-49</th>\n",
       "      <th>age_category_50-54</th>\n",
       "      <th>age_category_55-59</th>\n",
       "      <th>age_category_60-64</th>\n",
       "      <th>age_category_65-69</th>\n",
       "      <th>age_category_70-74</th>\n",
       "      <th>age_category_75-79</th>\n",
       "      <th>age_category_80 or older</th>\n",
       "      <th>race_American Indian/Alaskan Native</th>\n",
       "      <th>race_Asian</th>\n",
       "      <th>race_Black</th>\n",
       "      <th>race_Hispanic</th>\n",
       "      <th>race_Other</th>\n",
       "      <th>race_White</th>\n",
       "      <th>diabetic_No</th>\n",
       "      <th>diabetic_No, borderline diabetes</th>\n",
       "      <th>diabetic_Yes</th>\n",
       "      <th>diabetic_Yes (during pregnancy)</th>\n",
       "    </tr>\n",
       "  </thead>\n",
       "  <tbody>\n",
       "    <tr>\n",
       "      <th>1</th>\n",
       "      <td>-1.356325</td>\n",
       "      <td>0</td>\n",
       "      <td>0</td>\n",
       "      <td>1</td>\n",
       "      <td>-0.373616</td>\n",
       "      <td>-0.469105</td>\n",
       "      <td>0</td>\n",
       "      <td>1</td>\n",
       "      <td>0.281693</td>\n",
       "      <td>-0.095566</td>\n",
       "      <td>0</td>\n",
       "      <td>0</td>\n",
       "      <td>0</td>\n",
       "      <td>1</td>\n",
       "      <td>0</td>\n",
       "      <td>0</td>\n",
       "      <td>0</td>\n",
       "      <td>0</td>\n",
       "      <td>0</td>\n",
       "      <td>0</td>\n",
       "      <td>0</td>\n",
       "      <td>0</td>\n",
       "      <td>0</td>\n",
       "      <td>0</td>\n",
       "      <td>0</td>\n",
       "      <td>0</td>\n",
       "      <td>0</td>\n",
       "      <td>1</td>\n",
       "      <td>0</td>\n",
       "      <td>0</td>\n",
       "      <td>0</td>\n",
       "      <td>0</td>\n",
       "      <td>0</td>\n",
       "      <td>1</td>\n",
       "      <td>1</td>\n",
       "      <td>0</td>\n",
       "      <td>0</td>\n",
       "      <td>0</td>\n",
       "    </tr>\n",
       "    <tr>\n",
       "      <th>3</th>\n",
       "      <td>-0.660204</td>\n",
       "      <td>0</td>\n",
       "      <td>0</td>\n",
       "      <td>0</td>\n",
       "      <td>-0.373616</td>\n",
       "      <td>-0.469105</td>\n",
       "      <td>0</td>\n",
       "      <td>0</td>\n",
       "      <td>-0.781838</td>\n",
       "      <td>-0.949180</td>\n",
       "      <td>0</td>\n",
       "      <td>0</td>\n",
       "      <td>1</td>\n",
       "      <td>1</td>\n",
       "      <td>0</td>\n",
       "      <td>0</td>\n",
       "      <td>0</td>\n",
       "      <td>0</td>\n",
       "      <td>0</td>\n",
       "      <td>0</td>\n",
       "      <td>0</td>\n",
       "      <td>0</td>\n",
       "      <td>0</td>\n",
       "      <td>0</td>\n",
       "      <td>0</td>\n",
       "      <td>0</td>\n",
       "      <td>1</td>\n",
       "      <td>0</td>\n",
       "      <td>0</td>\n",
       "      <td>0</td>\n",
       "      <td>0</td>\n",
       "      <td>0</td>\n",
       "      <td>0</td>\n",
       "      <td>1</td>\n",
       "      <td>1</td>\n",
       "      <td>0</td>\n",
       "      <td>0</td>\n",
       "      <td>0</td>\n",
       "    </tr>\n",
       "    <tr>\n",
       "      <th>6</th>\n",
       "      <td>-1.124285</td>\n",
       "      <td>0</td>\n",
       "      <td>0</td>\n",
       "      <td>0</td>\n",
       "      <td>3.521607</td>\n",
       "      <td>-0.469105</td>\n",
       "      <td>0</td>\n",
       "      <td>1</td>\n",
       "      <td>-1.845368</td>\n",
       "      <td>-2.656407</td>\n",
       "      <td>1</td>\n",
       "      <td>0</td>\n",
       "      <td>1</td>\n",
       "      <td>1</td>\n",
       "      <td>0</td>\n",
       "      <td>0</td>\n",
       "      <td>0</td>\n",
       "      <td>0</td>\n",
       "      <td>0</td>\n",
       "      <td>0</td>\n",
       "      <td>0</td>\n",
       "      <td>0</td>\n",
       "      <td>0</td>\n",
       "      <td>0</td>\n",
       "      <td>0</td>\n",
       "      <td>1</td>\n",
       "      <td>0</td>\n",
       "      <td>0</td>\n",
       "      <td>0</td>\n",
       "      <td>0</td>\n",
       "      <td>0</td>\n",
       "      <td>0</td>\n",
       "      <td>0</td>\n",
       "      <td>1</td>\n",
       "      <td>1</td>\n",
       "      <td>0</td>\n",
       "      <td>0</td>\n",
       "      <td>0</td>\n",
       "    </tr>\n",
       "    <tr>\n",
       "      <th>7</th>\n",
       "      <td>0.676278</td>\n",
       "      <td>1</td>\n",
       "      <td>0</td>\n",
       "      <td>0</td>\n",
       "      <td>0.924791</td>\n",
       "      <td>-0.469105</td>\n",
       "      <td>1</td>\n",
       "      <td>0</td>\n",
       "      <td>-0.781838</td>\n",
       "      <td>1.611662</td>\n",
       "      <td>1</td>\n",
       "      <td>0</td>\n",
       "      <td>0</td>\n",
       "      <td>1</td>\n",
       "      <td>0</td>\n",
       "      <td>0</td>\n",
       "      <td>0</td>\n",
       "      <td>0</td>\n",
       "      <td>0</td>\n",
       "      <td>0</td>\n",
       "      <td>0</td>\n",
       "      <td>0</td>\n",
       "      <td>0</td>\n",
       "      <td>0</td>\n",
       "      <td>0</td>\n",
       "      <td>0</td>\n",
       "      <td>0</td>\n",
       "      <td>1</td>\n",
       "      <td>0</td>\n",
       "      <td>0</td>\n",
       "      <td>0</td>\n",
       "      <td>0</td>\n",
       "      <td>0</td>\n",
       "      <td>1</td>\n",
       "      <td>0</td>\n",
       "      <td>0</td>\n",
       "      <td>1</td>\n",
       "      <td>0</td>\n",
       "    </tr>\n",
       "    <tr>\n",
       "      <th>8</th>\n",
       "      <td>-0.257281</td>\n",
       "      <td>0</td>\n",
       "      <td>0</td>\n",
       "      <td>0</td>\n",
       "      <td>-0.373616</td>\n",
       "      <td>-0.469105</td>\n",
       "      <td>0</td>\n",
       "      <td>0</td>\n",
       "      <td>-1.845368</td>\n",
       "      <td>-1.802794</td>\n",
       "      <td>0</td>\n",
       "      <td>1</td>\n",
       "      <td>0</td>\n",
       "      <td>1</td>\n",
       "      <td>0</td>\n",
       "      <td>0</td>\n",
       "      <td>0</td>\n",
       "      <td>0</td>\n",
       "      <td>0</td>\n",
       "      <td>0</td>\n",
       "      <td>0</td>\n",
       "      <td>0</td>\n",
       "      <td>0</td>\n",
       "      <td>0</td>\n",
       "      <td>0</td>\n",
       "      <td>0</td>\n",
       "      <td>0</td>\n",
       "      <td>1</td>\n",
       "      <td>0</td>\n",
       "      <td>0</td>\n",
       "      <td>0</td>\n",
       "      <td>0</td>\n",
       "      <td>0</td>\n",
       "      <td>1</td>\n",
       "      <td>0</td>\n",
       "      <td>1</td>\n",
       "      <td>0</td>\n",
       "      <td>0</td>\n",
       "    </tr>\n",
       "  </tbody>\n",
       "</table>\n",
       "</div>"
      ],
      "text/plain": [
       "        bmi  smoking  alcohol_drinking  stroke  physical_health  \\\n",
       "1 -1.356325        0                 0       1        -0.373616   \n",
       "3 -0.660204        0                 0       0        -0.373616   \n",
       "6 -1.124285        0                 0       0         3.521607   \n",
       "7  0.676278        1                 0       0         0.924791   \n",
       "8 -0.257281        0                 0       0        -0.373616   \n",
       "\n",
       "   mental_health  diff_walking  physical_activity  gen_health  sleep_time  \\\n",
       "1      -0.469105             0                  1    0.281693   -0.095566   \n",
       "3      -0.469105             0                  0   -0.781838   -0.949180   \n",
       "6      -0.469105             0                  1   -1.845368   -2.656407   \n",
       "7      -0.469105             1                  0   -0.781838    1.611662   \n",
       "8      -0.469105             0                  0   -1.845368   -1.802794   \n",
       "\n",
       "   asthma  kidney_disease  skin_cancer  sex_Female  sex_Male  \\\n",
       "1       0               0            0           1         0   \n",
       "3       0               0            1           1         0   \n",
       "6       1               0            1           1         0   \n",
       "7       1               0            0           1         0   \n",
       "8       0               1            0           1         0   \n",
       "\n",
       "   age_category_18-24  age_category_25-29  age_category_30-34  \\\n",
       "1                   0                   0                   0   \n",
       "3                   0                   0                   0   \n",
       "6                   0                   0                   0   \n",
       "7                   0                   0                   0   \n",
       "8                   0                   0                   0   \n",
       "\n",
       "   age_category_35-39  age_category_40-44  age_category_45-49  \\\n",
       "1                   0                   0                   0   \n",
       "3                   0                   0                   0   \n",
       "6                   0                   0                   0   \n",
       "7                   0                   0                   0   \n",
       "8                   0                   0                   0   \n",
       "\n",
       "   age_category_50-54  age_category_55-59  age_category_60-64  \\\n",
       "1                   0                   0                   0   \n",
       "3                   0                   0                   0   \n",
       "6                   0                   0                   0   \n",
       "7                   0                   0                   0   \n",
       "8                   0                   0                   0   \n",
       "\n",
       "   age_category_65-69  age_category_70-74  age_category_75-79  \\\n",
       "1                   0                   0                   0   \n",
       "3                   0                   0                   1   \n",
       "6                   0                   1                   0   \n",
       "7                   0                   0                   0   \n",
       "8                   0                   0                   0   \n",
       "\n",
       "   age_category_80 or older  race_American Indian/Alaskan Native  race_Asian  \\\n",
       "1                         1                                    0           0   \n",
       "3                         0                                    0           0   \n",
       "6                         0                                    0           0   \n",
       "7                         1                                    0           0   \n",
       "8                         1                                    0           0   \n",
       "\n",
       "   race_Black  race_Hispanic  race_Other  race_White  diabetic_No  \\\n",
       "1           0              0           0           1            1   \n",
       "3           0              0           0           1            1   \n",
       "6           0              0           0           1            1   \n",
       "7           0              0           0           1            0   \n",
       "8           0              0           0           1            0   \n",
       "\n",
       "   diabetic_No, borderline diabetes  diabetic_Yes  \\\n",
       "1                                 0             0   \n",
       "3                                 0             0   \n",
       "6                                 0             0   \n",
       "7                                 0             1   \n",
       "8                                 1             0   \n",
       "\n",
       "   diabetic_Yes (during pregnancy)  \n",
       "1                                0  \n",
       "3                                0  \n",
       "6                                0  \n",
       "7                                0  \n",
       "8                                0  "
      ]
     },
     "execution_count": 52,
     "metadata": {},
     "output_type": "execute_result"
    }
   ],
   "source": [
    "x.head()"
   ]
  },
  {
   "cell_type": "code",
   "execution_count": 53,
   "id": "7d696fd6",
   "metadata": {},
   "outputs": [
    {
     "data": {
      "text/html": [
       "<div>\n",
       "<style scoped>\n",
       "    .dataframe tbody tr th:only-of-type {\n",
       "        vertical-align: middle;\n",
       "    }\n",
       "\n",
       "    .dataframe tbody tr th {\n",
       "        vertical-align: top;\n",
       "    }\n",
       "\n",
       "    .dataframe thead th {\n",
       "        text-align: right;\n",
       "    }\n",
       "</style>\n",
       "<table border=\"1\" class=\"dataframe\">\n",
       "  <thead>\n",
       "    <tr style=\"text-align: right;\">\n",
       "      <th></th>\n",
       "      <th>heart_disease</th>\n",
       "      <th>bmi</th>\n",
       "      <th>smoking</th>\n",
       "      <th>alcohol_drinking</th>\n",
       "      <th>stroke</th>\n",
       "      <th>physical_health</th>\n",
       "      <th>mental_health</th>\n",
       "      <th>diff_walking</th>\n",
       "      <th>sex</th>\n",
       "      <th>age_category</th>\n",
       "      <th>race</th>\n",
       "      <th>diabetic</th>\n",
       "      <th>physical_activity</th>\n",
       "      <th>gen_health</th>\n",
       "      <th>sleep_time</th>\n",
       "      <th>asthma</th>\n",
       "      <th>kidney_disease</th>\n",
       "      <th>skin_cancer</th>\n",
       "    </tr>\n",
       "  </thead>\n",
       "  <tbody>\n",
       "    <tr>\n",
       "      <th>1</th>\n",
       "      <td>No</td>\n",
       "      <td>20.34</td>\n",
       "      <td>No</td>\n",
       "      <td>No</td>\n",
       "      <td>Yes</td>\n",
       "      <td>0</td>\n",
       "      <td>0</td>\n",
       "      <td>No</td>\n",
       "      <td>Female</td>\n",
       "      <td>80 or older</td>\n",
       "      <td>White</td>\n",
       "      <td>No</td>\n",
       "      <td>Yes</td>\n",
       "      <td>Very good</td>\n",
       "      <td>7</td>\n",
       "      <td>No</td>\n",
       "      <td>No</td>\n",
       "      <td>No</td>\n",
       "    </tr>\n",
       "    <tr>\n",
       "      <th>3</th>\n",
       "      <td>No</td>\n",
       "      <td>24.21</td>\n",
       "      <td>No</td>\n",
       "      <td>No</td>\n",
       "      <td>No</td>\n",
       "      <td>0</td>\n",
       "      <td>0</td>\n",
       "      <td>No</td>\n",
       "      <td>Female</td>\n",
       "      <td>75-79</td>\n",
       "      <td>White</td>\n",
       "      <td>No</td>\n",
       "      <td>No</td>\n",
       "      <td>Good</td>\n",
       "      <td>6</td>\n",
       "      <td>No</td>\n",
       "      <td>No</td>\n",
       "      <td>Yes</td>\n",
       "    </tr>\n",
       "    <tr>\n",
       "      <th>6</th>\n",
       "      <td>No</td>\n",
       "      <td>21.63</td>\n",
       "      <td>No</td>\n",
       "      <td>No</td>\n",
       "      <td>No</td>\n",
       "      <td>15</td>\n",
       "      <td>0</td>\n",
       "      <td>No</td>\n",
       "      <td>Female</td>\n",
       "      <td>70-74</td>\n",
       "      <td>White</td>\n",
       "      <td>No</td>\n",
       "      <td>Yes</td>\n",
       "      <td>Fair</td>\n",
       "      <td>4</td>\n",
       "      <td>Yes</td>\n",
       "      <td>No</td>\n",
       "      <td>Yes</td>\n",
       "    </tr>\n",
       "    <tr>\n",
       "      <th>7</th>\n",
       "      <td>No</td>\n",
       "      <td>31.64</td>\n",
       "      <td>Yes</td>\n",
       "      <td>No</td>\n",
       "      <td>No</td>\n",
       "      <td>5</td>\n",
       "      <td>0</td>\n",
       "      <td>Yes</td>\n",
       "      <td>Female</td>\n",
       "      <td>80 or older</td>\n",
       "      <td>White</td>\n",
       "      <td>Yes</td>\n",
       "      <td>No</td>\n",
       "      <td>Good</td>\n",
       "      <td>9</td>\n",
       "      <td>Yes</td>\n",
       "      <td>No</td>\n",
       "      <td>No</td>\n",
       "    </tr>\n",
       "    <tr>\n",
       "      <th>8</th>\n",
       "      <td>No</td>\n",
       "      <td>26.45</td>\n",
       "      <td>No</td>\n",
       "      <td>No</td>\n",
       "      <td>No</td>\n",
       "      <td>0</td>\n",
       "      <td>0</td>\n",
       "      <td>No</td>\n",
       "      <td>Female</td>\n",
       "      <td>80 or older</td>\n",
       "      <td>White</td>\n",
       "      <td>No, borderline diabetes</td>\n",
       "      <td>No</td>\n",
       "      <td>Fair</td>\n",
       "      <td>5</td>\n",
       "      <td>No</td>\n",
       "      <td>Yes</td>\n",
       "      <td>No</td>\n",
       "    </tr>\n",
       "  </tbody>\n",
       "</table>\n",
       "</div>"
      ],
      "text/plain": [
       "  heart_disease    bmi smoking alcohol_drinking stroke  physical_health  \\\n",
       "1            No  20.34      No               No    Yes                0   \n",
       "3            No  24.21      No               No     No                0   \n",
       "6            No  21.63      No               No     No               15   \n",
       "7            No  31.64     Yes               No     No                5   \n",
       "8            No  26.45      No               No     No                0   \n",
       "\n",
       "   mental_health diff_walking     sex age_category   race  \\\n",
       "1              0           No  Female  80 or older  White   \n",
       "3              0           No  Female        75-79  White   \n",
       "6              0           No  Female        70-74  White   \n",
       "7              0          Yes  Female  80 or older  White   \n",
       "8              0           No  Female  80 or older  White   \n",
       "\n",
       "                  diabetic physical_activity gen_health  sleep_time asthma  \\\n",
       "1                       No               Yes  Very good           7     No   \n",
       "3                       No                No       Good           6     No   \n",
       "6                       No               Yes       Fair           4    Yes   \n",
       "7                      Yes                No       Good           9    Yes   \n",
       "8  No, borderline diabetes                No       Fair           5     No   \n",
       "\n",
       "  kidney_disease skin_cancer  \n",
       "1             No          No  \n",
       "3             No         Yes  \n",
       "6             No         Yes  \n",
       "7             No          No  \n",
       "8            Yes          No  "
      ]
     },
     "execution_count": 53,
     "metadata": {},
     "output_type": "execute_result"
    }
   ],
   "source": [
    "df_2.head()"
   ]
  },
  {
   "cell_type": "markdown",
   "id": "d1f7653d",
   "metadata": {},
   "source": [
    "# Balancing Imbalanced Data"
   ]
  },
  {
   "cell_type": "code",
   "execution_count": 54,
   "id": "ce585708",
   "metadata": {},
   "outputs": [
    {
     "data": {
      "image/png": "[encoded data removed]",
      "text/plain": [
       "<Figure size 432x288 with 1 Axes>"
      ]
     },
     "metadata": {
      "needs_background": "light"
     },
     "output_type": "display_data"
    }
   ],
   "source": [
    "sns.countplot(data=df, x='heart_disease');"
   ]
  },
  {
   "cell_type": "markdown",
   "id": "83431e03",
   "metadata": {},
   "source": [
    "As we see out data is highly imbalanced, we need to balance our data."
   ]
  },
  {
   "cell_type": "markdown",
   "id": "ea882f64",
   "metadata": {},
   "source": [
    "### Under Sampling"
   ]
  },
  {
   "cell_type": "code",
   "execution_count": 55,
   "id": "cbb1cc6c",
   "metadata": {},
   "outputs": [],
   "source": [
    "from imblearn.under_sampling import NearMiss\n",
    "n_miss = NearMiss()\n",
    "\n",
    "X_new1, y_new1 = n_miss.fit_resample(x,y)"
   ]
  },
  {
   "cell_type": "code",
   "execution_count": 56,
   "id": "e264ecfc",
   "metadata": {},
   "outputs": [
    {
     "data": {
      "text/plain": [
       "(41346, 38)"
      ]
     },
     "execution_count": 56,
     "metadata": {},
     "output_type": "execute_result"
    }
   ],
   "source": [
    "X_new1.shape"
   ]
  },
  {
   "cell_type": "code",
   "execution_count": 57,
   "id": "17fb096a",
   "metadata": {},
   "outputs": [
    {
     "data": {
      "text/plain": [
       "(41346, 1)"
      ]
     },
     "execution_count": 57,
     "metadata": {},
     "output_type": "execute_result"
    }
   ],
   "source": [
    "y_new1.shape"
   ]
  },
  {
   "cell_type": "code",
   "execution_count": 58,
   "id": "b57b2c41",
   "metadata": {},
   "outputs": [
    {
     "data": {
      "image/png": "[encoded data removed]",
      "text/plain": [
       "<Figure size 432x288 with 1 Axes>"
      ]
     },
     "metadata": {
      "needs_background": "light"
     },
     "output_type": "display_data"
    }
   ],
   "source": [
    "sns.countplot(data=y_new1, x='heart_disease');"
   ]
  },
  {
   "cell_type": "code",
   "execution_count": 59,
   "id": "4cadc783",
   "metadata": {},
   "outputs": [
    {
     "data": {
      "text/plain": [
       "0    20673\n",
       "1    20673\n",
       "Name: heart_disease, dtype: int64"
      ]
     },
     "execution_count": 59,
     "metadata": {},
     "output_type": "execute_result"
    }
   ],
   "source": [
    "y_new1['heart_disease'].value_counts()"
   ]
  },
  {
   "cell_type": "markdown",
   "id": "cf9f74f8",
   "metadata": {},
   "source": [
    "### Over Sampling"
   ]
  },
  {
   "cell_type": "code",
   "execution_count": 60,
   "id": "637130b4",
   "metadata": {},
   "outputs": [],
   "source": [
    "from imblearn.over_sampling import RandomOverSampler\n",
    "over_sm = RandomOverSampler(random_state=42)\n",
    "\n",
    "X_new2, y_new2 = over_sm.fit_resample(x, y)"
   ]
  },
  {
   "cell_type": "code",
   "execution_count": 61,
   "id": "6047e8c2",
   "metadata": {},
   "outputs": [
    {
     "data": {
      "text/plain": [
       "(519240, 38)"
      ]
     },
     "execution_count": 61,
     "metadata": {},
     "output_type": "execute_result"
    }
   ],
   "source": [
    "X_new2.shape"
   ]
  },
  {
   "cell_type": "code",
   "execution_count": 62,
   "id": "544bb06e",
   "metadata": {},
   "outputs": [
    {
     "data": {
      "text/plain": [
       "(519240, 1)"
      ]
     },
     "execution_count": 62,
     "metadata": {},
     "output_type": "execute_result"
    }
   ],
   "source": [
    "y_new2.shape"
   ]
  },
  {
   "cell_type": "code",
   "execution_count": 63,
   "id": "c92d0053",
   "metadata": {},
   "outputs": [
    {
     "data": {
      "image/png": "[encoded data removed]",
      "text/plain": [
       "<Figure size 432x288 with 1 Axes>"
      ]
     },
     "metadata": {
      "needs_background": "light"
     },
     "output_type": "display_data"
    }
   ],
   "source": [
    "sns.countplot(data = y_new2, x = 'heart_disease');"
   ]
  },
  {
   "cell_type": "code",
   "execution_count": 64,
   "id": "44d52153",
   "metadata": {},
   "outputs": [
    {
     "data": {
      "text/plain": [
       "0    259620\n",
       "1    259620\n",
       "Name: heart_disease, dtype: int64"
      ]
     },
     "execution_count": 64,
     "metadata": {},
     "output_type": "execute_result"
    }
   ],
   "source": [
    "y_new2['heart_disease'].value_counts()"
   ]
  },
  {
   "cell_type": "markdown",
   "id": "4dc5f7bf",
   "metadata": {},
   "source": [
    "### Synthetic Minority Oversampling Tenique (SMOTETomek)"
   ]
  },
  {
   "cell_type": "code",
   "execution_count": 65,
   "id": "772239eb",
   "metadata": {},
   "outputs": [],
   "source": [
    "# from imblearn.combine import SMOTETomek\n",
    "# sm = SMOTETomek(random_state=42)\n",
    "\n",
    "# X_new, y_new = sm.fit_resample(x,y)"
   ]
  },
  {
   "cell_type": "markdown",
   "id": "5c82971e",
   "metadata": {},
   "source": [
    "# Feature Importance"
   ]
  },
  {
   "cell_type": "code",
   "execution_count": 66,
   "id": "e871143b",
   "metadata": {},
   "outputs": [
    {
     "data": {
      "text/plain": [
       "array([0.26493487, 0.0237017 , 0.01027615, 0.02518686, 0.06090926,\n",
       "       0.0597755 , 0.03000781, 0.02111076, 0.08855591, 0.09360696,\n",
       "       0.01693287, 0.0120612 , 0.01498842, 0.01254151, 0.01181965,\n",
       "       0.01287783, 0.00990838, 0.00931911, 0.01132614, 0.00897579,\n",
       "       0.00730876, 0.00610537, 0.00659558, 0.00853929, 0.01260015,\n",
       "       0.01955658, 0.02130779, 0.03756387, 0.0032275 , 0.00296834,\n",
       "       0.00628616, 0.00627202, 0.00429858, 0.00942007, 0.01944405,\n",
       "       0.0023394 , 0.02632253, 0.00102726])"
      ]
     },
     "execution_count": 66,
     "metadata": {},
     "output_type": "execute_result"
    }
   ],
   "source": [
    "from sklearn.ensemble import ExtraTreesClassifier\n",
    "extra_clf = ExtraTreesClassifier()\n",
    "extra_clf.fit(X_new2, y_new2)\n",
    "feature_importance = extra_clf.feature_importances_\n",
    "feature_importance"
   ]
  },
  {
   "cell_type": "code",
   "execution_count": 68,
   "id": "e5c68b10",
   "metadata": {},
   "outputs": [
    {
     "data": {
      "text/html": [
       "<div>\n",
       "<style scoped>\n",
       "    .dataframe tbody tr th:only-of-type {\n",
       "        vertical-align: middle;\n",
       "    }\n",
       "\n",
       "    .dataframe tbody tr th {\n",
       "        vertical-align: top;\n",
       "    }\n",
       "\n",
       "    .dataframe thead th {\n",
       "        text-align: right;\n",
       "    }\n",
       "</style>\n",
       "<table border=\"1\" class=\"dataframe\">\n",
       "  <thead>\n",
       "    <tr style=\"text-align: right;\">\n",
       "      <th></th>\n",
       "      <th>feature_names</th>\n",
       "      <th>gain_score</th>\n",
       "    </tr>\n",
       "  </thead>\n",
       "  <tbody>\n",
       "    <tr>\n",
       "      <th>0</th>\n",
       "      <td>bmi</td>\n",
       "      <td>0.264935</td>\n",
       "    </tr>\n",
       "    <tr>\n",
       "      <th>9</th>\n",
       "      <td>sleep_time</td>\n",
       "      <td>0.093607</td>\n",
       "    </tr>\n",
       "    <tr>\n",
       "      <th>8</th>\n",
       "      <td>gen_health</td>\n",
       "      <td>0.088556</td>\n",
       "    </tr>\n",
       "    <tr>\n",
       "      <th>4</th>\n",
       "      <td>physical_health</td>\n",
       "      <td>0.060909</td>\n",
       "    </tr>\n",
       "    <tr>\n",
       "      <th>5</th>\n",
       "      <td>mental_health</td>\n",
       "      <td>0.059776</td>\n",
       "    </tr>\n",
       "    <tr>\n",
       "      <th>27</th>\n",
       "      <td>age_category_80 or older</td>\n",
       "      <td>0.037564</td>\n",
       "    </tr>\n",
       "    <tr>\n",
       "      <th>6</th>\n",
       "      <td>diff_walking</td>\n",
       "      <td>0.030008</td>\n",
       "    </tr>\n",
       "    <tr>\n",
       "      <th>36</th>\n",
       "      <td>diabetic_Yes</td>\n",
       "      <td>0.026323</td>\n",
       "    </tr>\n",
       "    <tr>\n",
       "      <th>3</th>\n",
       "      <td>stroke</td>\n",
       "      <td>0.025187</td>\n",
       "    </tr>\n",
       "    <tr>\n",
       "      <th>1</th>\n",
       "      <td>smoking</td>\n",
       "      <td>0.023702</td>\n",
       "    </tr>\n",
       "    <tr>\n",
       "      <th>26</th>\n",
       "      <td>age_category_75-79</td>\n",
       "      <td>0.021308</td>\n",
       "    </tr>\n",
       "    <tr>\n",
       "      <th>7</th>\n",
       "      <td>physical_activity</td>\n",
       "      <td>0.021111</td>\n",
       "    </tr>\n",
       "    <tr>\n",
       "      <th>25</th>\n",
       "      <td>age_category_70-74</td>\n",
       "      <td>0.019557</td>\n",
       "    </tr>\n",
       "    <tr>\n",
       "      <th>34</th>\n",
       "      <td>diabetic_No</td>\n",
       "      <td>0.019444</td>\n",
       "    </tr>\n",
       "    <tr>\n",
       "      <th>10</th>\n",
       "      <td>asthma</td>\n",
       "      <td>0.016933</td>\n",
       "    </tr>\n",
       "    <tr>\n",
       "      <th>12</th>\n",
       "      <td>skin_cancer</td>\n",
       "      <td>0.014988</td>\n",
       "    </tr>\n",
       "    <tr>\n",
       "      <th>15</th>\n",
       "      <td>age_category_18-24</td>\n",
       "      <td>0.012878</td>\n",
       "    </tr>\n",
       "    <tr>\n",
       "      <th>24</th>\n",
       "      <td>age_category_65-69</td>\n",
       "      <td>0.012600</td>\n",
       "    </tr>\n",
       "    <tr>\n",
       "      <th>13</th>\n",
       "      <td>sex_Female</td>\n",
       "      <td>0.012542</td>\n",
       "    </tr>\n",
       "    <tr>\n",
       "      <th>11</th>\n",
       "      <td>kidney_disease</td>\n",
       "      <td>0.012061</td>\n",
       "    </tr>\n",
       "    <tr>\n",
       "      <th>14</th>\n",
       "      <td>sex_Male</td>\n",
       "      <td>0.011820</td>\n",
       "    </tr>\n",
       "    <tr>\n",
       "      <th>18</th>\n",
       "      <td>age_category_35-39</td>\n",
       "      <td>0.011326</td>\n",
       "    </tr>\n",
       "    <tr>\n",
       "      <th>2</th>\n",
       "      <td>alcohol_drinking</td>\n",
       "      <td>0.010276</td>\n",
       "    </tr>\n",
       "    <tr>\n",
       "      <th>16</th>\n",
       "      <td>age_category_25-29</td>\n",
       "      <td>0.009908</td>\n",
       "    </tr>\n",
       "    <tr>\n",
       "      <th>33</th>\n",
       "      <td>race_White</td>\n",
       "      <td>0.009420</td>\n",
       "    </tr>\n",
       "    <tr>\n",
       "      <th>17</th>\n",
       "      <td>age_category_30-34</td>\n",
       "      <td>0.009319</td>\n",
       "    </tr>\n",
       "    <tr>\n",
       "      <th>19</th>\n",
       "      <td>age_category_40-44</td>\n",
       "      <td>0.008976</td>\n",
       "    </tr>\n",
       "    <tr>\n",
       "      <th>23</th>\n",
       "      <td>age_category_60-64</td>\n",
       "      <td>0.008539</td>\n",
       "    </tr>\n",
       "    <tr>\n",
       "      <th>20</th>\n",
       "      <td>age_category_45-49</td>\n",
       "      <td>0.007309</td>\n",
       "    </tr>\n",
       "    <tr>\n",
       "      <th>22</th>\n",
       "      <td>age_category_55-59</td>\n",
       "      <td>0.006596</td>\n",
       "    </tr>\n",
       "    <tr>\n",
       "      <th>30</th>\n",
       "      <td>race_Black</td>\n",
       "      <td>0.006286</td>\n",
       "    </tr>\n",
       "    <tr>\n",
       "      <th>31</th>\n",
       "      <td>race_Hispanic</td>\n",
       "      <td>0.006272</td>\n",
       "    </tr>\n",
       "    <tr>\n",
       "      <th>21</th>\n",
       "      <td>age_category_50-54</td>\n",
       "      <td>0.006105</td>\n",
       "    </tr>\n",
       "    <tr>\n",
       "      <th>32</th>\n",
       "      <td>race_Other</td>\n",
       "      <td>0.004299</td>\n",
       "    </tr>\n",
       "    <tr>\n",
       "      <th>28</th>\n",
       "      <td>race_American Indian/Alaskan Native</td>\n",
       "      <td>0.003228</td>\n",
       "    </tr>\n",
       "    <tr>\n",
       "      <th>29</th>\n",
       "      <td>race_Asian</td>\n",
       "      <td>0.002968</td>\n",
       "    </tr>\n",
       "    <tr>\n",
       "      <th>35</th>\n",
       "      <td>diabetic_No, borderline diabetes</td>\n",
       "      <td>0.002339</td>\n",
       "    </tr>\n",
       "    <tr>\n",
       "      <th>37</th>\n",
       "      <td>diabetic_Yes (during pregnancy)</td>\n",
       "      <td>0.001027</td>\n",
       "    </tr>\n",
       "  </tbody>\n",
       "</table>\n",
       "</div>"
      ],
      "text/plain": [
       "                          feature_names  gain_score\n",
       "0                                   bmi    0.264935\n",
       "9                            sleep_time    0.093607\n",
       "8                            gen_health    0.088556\n",
       "4                       physical_health    0.060909\n",
       "5                         mental_health    0.059776\n",
       "27             age_category_80 or older    0.037564\n",
       "6                          diff_walking    0.030008\n",
       "36                         diabetic_Yes    0.026323\n",
       "3                                stroke    0.025187\n",
       "1                               smoking    0.023702\n",
       "26                   age_category_75-79    0.021308\n",
       "7                     physical_activity    0.021111\n",
       "25                   age_category_70-74    0.019557\n",
       "34                          diabetic_No    0.019444\n",
       "10                               asthma    0.016933\n",
       "12                          skin_cancer    0.014988\n",
       "15                   age_category_18-24    0.012878\n",
       "24                   age_category_65-69    0.012600\n",
       "13                           sex_Female    0.012542\n",
       "11                       kidney_disease    0.012061\n",
       "14                             sex_Male    0.011820\n",
       "18                   age_category_35-39    0.011326\n",
       "2                      alcohol_drinking    0.010276\n",
       "16                   age_category_25-29    0.009908\n",
       "33                           race_White    0.009420\n",
       "17                   age_category_30-34    0.009319\n",
       "19                   age_category_40-44    0.008976\n",
       "23                   age_category_60-64    0.008539\n",
       "20                   age_category_45-49    0.007309\n",
       "22                   age_category_55-59    0.006596\n",
       "30                           race_Black    0.006286\n",
       "31                        race_Hispanic    0.006272\n",
       "21                   age_category_50-54    0.006105\n",
       "32                           race_Other    0.004299\n",
       "28  race_American Indian/Alaskan Native    0.003228\n",
       "29                           race_Asian    0.002968\n",
       "35     diabetic_No, borderline diabetes    0.002339\n",
       "37      diabetic_Yes (during pregnancy)    0.001027"
      ]
     },
     "execution_count": 68,
     "metadata": {},
     "output_type": "execute_result"
    }
   ],
   "source": [
    "imp = pd.DataFrame(feature_importance, columns = ['gain_score'])\n",
    "\n",
    "cols = pd.DataFrame(X_new2.columns, columns = ['feature_names'])\n",
    "\n",
    "gains = pd.concat([cols, imp], axis=1)\n",
    "\n",
    "gains.nlargest(gains.shape[0], 'gain_score')"
   ]
  },
  {
   "cell_type": "code",
   "execution_count": 71,
   "id": "6e3f37c0",
   "metadata": {
    "scrolled": true
   },
   "outputs": [
    {
     "data": {
      "text/html": [
       "<div>\n",
       "<style scoped>\n",
       "    .dataframe tbody tr th:only-of-type {\n",
       "        vertical-align: middle;\n",
       "    }\n",
       "\n",
       "    .dataframe tbody tr th {\n",
       "        vertical-align: top;\n",
       "    }\n",
       "\n",
       "    .dataframe thead th {\n",
       "        text-align: right;\n",
       "    }\n",
       "</style>\n",
       "<table border=\"1\" class=\"dataframe\">\n",
       "  <thead>\n",
       "    <tr style=\"text-align: right;\">\n",
       "      <th></th>\n",
       "      <th>feature_names</th>\n",
       "      <th>gain_score</th>\n",
       "    </tr>\n",
       "  </thead>\n",
       "  <tbody>\n",
       "    <tr>\n",
       "      <th>0</th>\n",
       "      <td>bmi</td>\n",
       "      <td>0.264935</td>\n",
       "    </tr>\n",
       "    <tr>\n",
       "      <th>9</th>\n",
       "      <td>sleep_time</td>\n",
       "      <td>0.093607</td>\n",
       "    </tr>\n",
       "    <tr>\n",
       "      <th>8</th>\n",
       "      <td>gen_health</td>\n",
       "      <td>0.088556</td>\n",
       "    </tr>\n",
       "    <tr>\n",
       "      <th>4</th>\n",
       "      <td>physical_health</td>\n",
       "      <td>0.060909</td>\n",
       "    </tr>\n",
       "    <tr>\n",
       "      <th>5</th>\n",
       "      <td>mental_health</td>\n",
       "      <td>0.059776</td>\n",
       "    </tr>\n",
       "    <tr>\n",
       "      <th>27</th>\n",
       "      <td>age_category_80 or older</td>\n",
       "      <td>0.037564</td>\n",
       "    </tr>\n",
       "    <tr>\n",
       "      <th>6</th>\n",
       "      <td>diff_walking</td>\n",
       "      <td>0.030008</td>\n",
       "    </tr>\n",
       "    <tr>\n",
       "      <th>36</th>\n",
       "      <td>diabetic_Yes</td>\n",
       "      <td>0.026323</td>\n",
       "    </tr>\n",
       "    <tr>\n",
       "      <th>3</th>\n",
       "      <td>stroke</td>\n",
       "      <td>0.025187</td>\n",
       "    </tr>\n",
       "    <tr>\n",
       "      <th>1</th>\n",
       "      <td>smoking</td>\n",
       "      <td>0.023702</td>\n",
       "    </tr>\n",
       "    <tr>\n",
       "      <th>26</th>\n",
       "      <td>age_category_75-79</td>\n",
       "      <td>0.021308</td>\n",
       "    </tr>\n",
       "    <tr>\n",
       "      <th>7</th>\n",
       "      <td>physical_activity</td>\n",
       "      <td>0.021111</td>\n",
       "    </tr>\n",
       "    <tr>\n",
       "      <th>25</th>\n",
       "      <td>age_category_70-74</td>\n",
       "      <td>0.019557</td>\n",
       "    </tr>\n",
       "    <tr>\n",
       "      <th>34</th>\n",
       "      <td>diabetic_No</td>\n",
       "      <td>0.019444</td>\n",
       "    </tr>\n",
       "    <tr>\n",
       "      <th>10</th>\n",
       "      <td>asthma</td>\n",
       "      <td>0.016933</td>\n",
       "    </tr>\n",
       "    <tr>\n",
       "      <th>12</th>\n",
       "      <td>skin_cancer</td>\n",
       "      <td>0.014988</td>\n",
       "    </tr>\n",
       "    <tr>\n",
       "      <th>15</th>\n",
       "      <td>age_category_18-24</td>\n",
       "      <td>0.012878</td>\n",
       "    </tr>\n",
       "    <tr>\n",
       "      <th>24</th>\n",
       "      <td>age_category_65-69</td>\n",
       "      <td>0.012600</td>\n",
       "    </tr>\n",
       "    <tr>\n",
       "      <th>13</th>\n",
       "      <td>sex_Female</td>\n",
       "      <td>0.012542</td>\n",
       "    </tr>\n",
       "    <tr>\n",
       "      <th>11</th>\n",
       "      <td>kidney_disease</td>\n",
       "      <td>0.012061</td>\n",
       "    </tr>\n",
       "  </tbody>\n",
       "</table>\n",
       "</div>"
      ],
      "text/plain": [
       "               feature_names  gain_score\n",
       "0                        bmi    0.264935\n",
       "9                 sleep_time    0.093607\n",
       "8                 gen_health    0.088556\n",
       "4            physical_health    0.060909\n",
       "5              mental_health    0.059776\n",
       "27  age_category_80 or older    0.037564\n",
       "6               diff_walking    0.030008\n",
       "36              diabetic_Yes    0.026323\n",
       "3                     stroke    0.025187\n",
       "1                    smoking    0.023702\n",
       "26        age_category_75-79    0.021308\n",
       "7          physical_activity    0.021111\n",
       "25        age_category_70-74    0.019557\n",
       "34               diabetic_No    0.019444\n",
       "10                    asthma    0.016933\n",
       "12               skin_cancer    0.014988\n",
       "15        age_category_18-24    0.012878\n",
       "24        age_category_65-69    0.012600\n",
       "13                sex_Female    0.012542\n",
       "11            kidney_disease    0.012061"
      ]
     },
     "execution_count": 71,
     "metadata": {},
     "output_type": "execute_result"
    }
   ],
   "source": [
    "gains.nlargest(20, 'gain_score')"
   ]
  },
  {
   "cell_type": "markdown",
   "id": "c2a818ab",
   "metadata": {},
   "source": [
    "SMOTETomek takes too many time. Waited more than 1 hour. That's why I have skipped this method"
   ]
  },
  {
   "cell_type": "markdown",
   "id": "0a984a07",
   "metadata": {},
   "source": [
    "# Machine Learning Models"
   ]
  },
  {
   "cell_type": "markdown",
   "id": "76c83f20",
   "metadata": {},
   "source": [
    "## Decision Tree"
   ]
  },
  {
   "cell_type": "code",
   "execution_count": 72,
   "id": "42ae8515",
   "metadata": {},
   "outputs": [],
   "source": [
    "from sklearn.tree import DecisionTreeClassifier\n",
    "\n",
    "dt_clf = DecisionTreeClassifier()\n",
    "\n",
    "from sklearn.model_selection import train_test_split"
   ]
  },
  {
   "cell_type": "code",
   "execution_count": 73,
   "id": "f2b9f291",
   "metadata": {},
   "outputs": [],
   "source": [
    "from sklearn.metrics import confusion_matrix, accuracy_score, roc_auc_score, classification_report, plot_roc_curve"
   ]
  },
  {
   "cell_type": "markdown",
   "id": "ab1e2a76",
   "metadata": {},
   "source": [
    "#### With Not sampled data"
   ]
  },
  {
   "cell_type": "code",
   "execution_count": 74,
   "id": "2523125d",
   "metadata": {},
   "outputs": [
    {
     "data": {
      "text/plain": [
       "DecisionTreeClassifier()"
      ]
     },
     "execution_count": 74,
     "metadata": {},
     "output_type": "execute_result"
    }
   ],
   "source": [
    "X_train, X_test, y_train, y_test = train_test_split(x,y, random_state= 42, train_size=0.7)\n",
    "\n",
    "dt_clf.fit(X_train, y_train)"
   ]
  },
  {
   "cell_type": "code",
   "execution_count": 75,
   "id": "3f2ad0a1",
   "metadata": {},
   "outputs": [],
   "source": [
    "y_pred = dt_clf.predict(X_test)"
   ]
  },
  {
   "cell_type": "code",
   "execution_count": 76,
   "id": "614023a8",
   "metadata": {},
   "outputs": [
    {
     "data": {
      "text/plain": [
       "0.8791979830653601"
      ]
     },
     "execution_count": 76,
     "metadata": {},
     "output_type": "execute_result"
    }
   ],
   "source": [
    "accuracy_score(y_test, y_pred)"
   ]
  },
  {
   "cell_type": "markdown",
   "id": "4928e9dd",
   "metadata": {},
   "source": [
    "#### With Under Sampled Data"
   ]
  },
  {
   "cell_type": "code",
   "execution_count": 77,
   "id": "2252d3e4",
   "metadata": {},
   "outputs": [
    {
     "data": {
      "text/plain": [
       "0.8531925185424056"
      ]
     },
     "execution_count": 77,
     "metadata": {},
     "output_type": "execute_result"
    }
   ],
   "source": [
    "X_train, X_test, y_train, y_test = train_test_split(X_new1,y_new1, random_state= 42, train_size=0.7)\n",
    "\n",
    "dt_clf.fit(X_train, y_train)\n",
    "\n",
    "y_pred = dt_clf.predict(X_test)\n",
    "\n",
    "accuracy_score(y_test, y_pred)"
   ]
  },
  {
   "cell_type": "markdown",
   "id": "fb0e129a",
   "metadata": {},
   "source": [
    "#### Over_Sampled Data"
   ]
  },
  {
   "cell_type": "code",
   "execution_count": 78,
   "id": "eb467346",
   "metadata": {},
   "outputs": [],
   "source": [
    "X_train, X_test, y_train, y_test = train_test_split(X_new2,y_new2, random_state= 42, train_size=0.7)"
   ]
  },
  {
   "cell_type": "code",
   "execution_count": 79,
   "id": "865ea46d",
   "metadata": {},
   "outputs": [
    {
     "data": {
      "text/plain": [
       "0.9554027681483194"
      ]
     },
     "execution_count": 79,
     "metadata": {},
     "output_type": "execute_result"
    }
   ],
   "source": [
    "dt_clf.fit(X_train, y_train)\n",
    "\n",
    "y_pred = dt_clf.predict(X_test)\n",
    "\n",
    "accuracy_score(y_test, y_pred)"
   ]
  },
  {
   "cell_type": "code",
   "execution_count": 80,
   "id": "3b40d363",
   "metadata": {},
   "outputs": [
    {
     "name": "stdout",
     "output_type": "stream",
     "text": [
      "              precision    recall  f1-score   support\n",
      "\n",
      "           0       1.00      0.91      0.95     77718\n",
      "           1       0.92      1.00      0.96     78054\n",
      "\n",
      "    accuracy                           0.96    155772\n",
      "   macro avg       0.96      0.96      0.96    155772\n",
      "weighted avg       0.96      0.96      0.96    155772\n",
      "\n"
     ]
    }
   ],
   "source": [
    "print(classification_report(y_test, y_pred))"
   ]
  },
  {
   "cell_type": "code",
   "execution_count": 81,
   "id": "caba841d",
   "metadata": {},
   "outputs": [],
   "source": [
    "tp, fn, fp, tn = confusion_matrix(y_test, y_pred).reshape(-1)"
   ]
  },
  {
   "cell_type": "code",
   "execution_count": 82,
   "id": "26a1c086",
   "metadata": {},
   "outputs": [
    {
     "name": "stdout",
     "output_type": "stream",
     "text": [
      "TP = 70800 \n",
      "FN = 6918 \n",
      "FP = 29 \n",
      "TN = 78025\n"
     ]
    }
   ],
   "source": [
    "print('TP = {} \\nFN = {} \\nFP = {} \\nTN = {}'.format(tp, fn, fp, tn))"
   ]
  },
  {
   "cell_type": "code",
   "execution_count": 83,
   "id": "514cdad9",
   "metadata": {},
   "outputs": [
    {
     "data": {
      "image/png": "[encoded data removed]",
      "text/plain": [
       "<Figure size 432x288 with 2 Axes>"
      ]
     },
     "metadata": {
      "needs_background": "light"
     },
     "output_type": "display_data"
    }
   ],
   "source": [
    "sns.heatmap(confusion_matrix(y_test, y_pred), annot=True);"
   ]
  },
  {
   "cell_type": "code",
   "execution_count": 84,
   "id": "b3acdd7b",
   "metadata": {},
   "outputs": [
    {
     "data": {
      "image/png": "[encoded data removed]",
      "text/plain": [
       "<Figure size 432x288 with 1 Axes>"
      ]
     },
     "metadata": {
      "needs_background": "light"
     },
     "output_type": "display_data"
    }
   ],
   "source": [
    "plot_roc_curve(dt_clf, X_test, y_test);\n",
    "plt.plot([0,1], [0,1]);"
   ]
  },
  {
   "cell_type": "markdown",
   "id": "fdf2453f",
   "metadata": {},
   "source": [
    "# Random Forest"
   ]
  },
  {
   "cell_type": "code",
   "execution_count": 85,
   "id": "005b6d58",
   "metadata": {},
   "outputs": [
    {
     "data": {
      "text/plain": [
       "RandomForestClassifier()"
      ]
     },
     "execution_count": 85,
     "metadata": {},
     "output_type": "execute_result"
    }
   ],
   "source": [
    "from sklearn.ensemble import RandomForestClassifier\n",
    "rf_clf = RandomForestClassifier()\n",
    "rf_clf.fit(X_train, y_train)"
   ]
  },
  {
   "cell_type": "code",
   "execution_count": 86,
   "id": "a617c049",
   "metadata": {},
   "outputs": [],
   "source": [
    "y_pred = rf_clf.predict(X_test)"
   ]
  },
  {
   "cell_type": "code",
   "execution_count": 87,
   "id": "a2e5f505",
   "metadata": {},
   "outputs": [
    {
     "data": {
      "text/plain": [
       "0.966701332717048"
      ]
     },
     "execution_count": 87,
     "metadata": {},
     "output_type": "execute_result"
    }
   ],
   "source": [
    "rf_clf.score(X_test, y_test)"
   ]
  },
  {
   "cell_type": "markdown",
   "id": "568536e7",
   "metadata": {},
   "source": [
    "#### Hyper parameter tuning"
   ]
  },
  {
   "cell_type": "code",
   "execution_count": 88,
   "id": "c40c214f",
   "metadata": {},
   "outputs": [
    {
     "name": "stdout",
     "output_type": "stream",
     "text": [
      "{'n_estimators': array([ 88,  44, 102,  28, 108,  40, 139,  65,  78,  41, 133, 136,  99,\n",
      "        24, 148, 123,  64,  45, 137,  93,  57,  53,  49,  92,  81,  97,\n",
      "        91,  71,  61, 143]), 'max_features': ['sqrt', 'log2'], 'max_depth': array([10,  3,  7, 11,  2,  3, 12, 14, 14,  5, 13, 12,  7, 10,  8,  3,  8,\n",
      "        3,  2,  6,  5,  5,  4,  6, 12, 13,  9,  3,  9, 14,  2,  8,  7, 13,\n",
      "       10, 11,  5,  4, 11,  7, 14,  2,  7,  6,  9,  2,  5,  7, 14,  4]), 'criterion': ['gini', 'entropy'], 'min_samples_split': [2, 3, 4]}\n"
     ]
    }
   ],
   "source": [
    "import numpy as np\n",
    "trees = np.random.randint(15, 150, 30)\n",
    "max_featrues = ['sqrt', 'log2']\n",
    "max_depth = np.random.randint(2,15, 50)\n",
    "criteroin = ['gini', 'entropy']\n",
    "min_samples_split = [2,3,4]\n",
    "\n",
    "grids = {\n",
    "    'n_estimators': trees,\n",
    "    'max_features': max_featrues,\n",
    "    'max_depth': max_depth,\n",
    "    'criterion': criteroin,\n",
    "    'min_samples_split': min_samples_split\n",
    "}\n",
    "print(grids)"
   ]
  },
  {
   "cell_type": "code",
   "execution_count": 90,
   "id": "f83a3b81",
   "metadata": {},
   "outputs": [],
   "source": [
    "from sklearn.model_selection import RandomizedSearchCV"
   ]
  },
  {
   "cell_type": "code",
   "execution_count": 93,
   "id": "b89f6b9e",
   "metadata": {},
   "outputs": [],
   "source": [
    "rcv = RandomizedSearchCV(rf_clf, grids, n_iter=10 , cv=3)"
   ]
  },
  {
   "cell_type": "code",
   "execution_count": 94,
   "id": "3ad1c93b",
   "metadata": {},
   "outputs": [
    {
     "data": {
      "text/plain": [
       "RandomizedSearchCV(cv=3, estimator=RandomForestClassifier(),\n",
       "                   param_distributions={'criterion': ['gini', 'entropy'],\n",
       "                                        'max_depth': array([10,  3,  7, 11,  2,  3, 12, 14, 14,  5, 13, 12,  7, 10,  8,  3,  8,\n",
       "        3,  2,  6,  5,  5,  4,  6, 12, 13,  9,  3,  9, 14,  2,  8,  7, 13,\n",
       "       10, 11,  5,  4, 11,  7, 14,  2,  7,  6,  9,  2,  5,  7, 14,  4]),\n",
       "                                        'max_features': ['sqrt', 'log2'],\n",
       "                                        'min_samples_split': [2, 3, 4],\n",
       "                                        'n_estimators': array([ 88,  44, 102,  28, 108,  40, 139,  65,  78,  41, 133, 136,  99,\n",
       "        24, 148, 123,  64,  45, 137,  93,  57,  53,  49,  92,  81,  97,\n",
       "        91,  71,  61, 143])})"
      ]
     },
     "execution_count": 94,
     "metadata": {},
     "output_type": "execute_result"
    }
   ],
   "source": [
    "rcv.fit(X_train, y_train)"
   ]
  },
  {
   "cell_type": "code",
   "execution_count": 95,
   "id": "2b798607",
   "metadata": {},
   "outputs": [
    {
     "data": {
      "text/plain": [
       "0.7870348971573838"
      ]
     },
     "execution_count": 95,
     "metadata": {},
     "output_type": "execute_result"
    }
   ],
   "source": [
    "rcv.score(X_test, y_test)"
   ]
  },
  {
   "cell_type": "markdown",
   "id": "7d314df1",
   "metadata": {},
   "source": [
    "# AdaBoost"
   ]
  },
  {
   "cell_type": "code",
   "execution_count": 96,
   "id": "8db642fe",
   "metadata": {},
   "outputs": [],
   "source": [
    "from sklearn.ensemble import AdaBoostClassifier"
   ]
  },
  {
   "cell_type": "code",
   "execution_count": 97,
   "id": "d23df56a",
   "metadata": {},
   "outputs": [
    {
     "data": {
      "text/plain": [
       "0.7364802403512827"
      ]
     },
     "execution_count": 97,
     "metadata": {},
     "output_type": "execute_result"
    }
   ],
   "source": [
    "ada_clf = AdaBoostClassifier(learning_rate= 0.1)\n",
    "ada_clf.fit(X_train, y_train)\n",
    "ada_clf.score(X_test, y_test)"
   ]
  },
  {
   "cell_type": "markdown",
   "id": "f38a38e9",
   "metadata": {},
   "source": [
    "# XgBoost"
   ]
  },
  {
   "cell_type": "code",
   "execution_count": 98,
   "id": "c14b89de",
   "metadata": {},
   "outputs": [],
   "source": [
    "import xgboost as xgb"
   ]
  },
  {
   "cell_type": "code",
   "execution_count": 99,
   "id": "594a3004",
   "metadata": {},
   "outputs": [],
   "source": [
    "xgb_clf = xgb.XGBClassifier()"
   ]
  },
  {
   "cell_type": "code",
   "execution_count": 100,
   "id": "3e899a7f",
   "metadata": {},
   "outputs": [
    {
     "data": {
      "text/plain": [
       "XGBClassifier(base_score=None, booster=None, callbacks=None,\n",
       "              colsample_bylevel=None, colsample_bynode=None,\n",
       "              colsample_bytree=None, early_stopping_rounds=None,\n",
       "              enable_categorical=False, eval_metric=None, feature_types=None,\n",
       "              gamma=None, gpu_id=None, grow_policy=None, importance_type=None,\n",
       "              interaction_constraints=None, learning_rate=None, max_bin=None,\n",
       "              max_cat_threshold=None, max_cat_to_onehot=None,\n",
       "              max_delta_step=None, max_depth=None, max_leaves=None,\n",
       "              min_child_weight=None, missing=nan, monotone_constraints=None,\n",
       "              n_estimators=100, n_jobs=None, num_parallel_tree=None,\n",
       "              predictor=None, random_state=None, ...)"
      ]
     },
     "execution_count": 100,
     "metadata": {},
     "output_type": "execute_result"
    }
   ],
   "source": [
    "xgb_clf.fit(X_train, y_train)"
   ]
  },
  {
   "cell_type": "code",
   "execution_count": 101,
   "id": "216bf450",
   "metadata": {},
   "outputs": [
    {
     "data": {
      "text/plain": [
       "0.7873302005495211"
      ]
     },
     "execution_count": 101,
     "metadata": {},
     "output_type": "execute_result"
    }
   ],
   "source": [
    "xgb_clf.score(X_test, y_test)"
   ]
  },
  {
   "cell_type": "markdown",
   "id": "e4d51603",
   "metadata": {},
   "source": [
    "# Logistic Regression"
   ]
  },
  {
   "cell_type": "code",
   "execution_count": 102,
   "id": "7e7edc0c",
   "metadata": {},
   "outputs": [
    {
     "data": {
      "text/plain": [
       "LogisticRegression()"
      ]
     },
     "execution_count": 102,
     "metadata": {},
     "output_type": "execute_result"
    }
   ],
   "source": [
    "from sklearn.linear_model import LogisticRegression\n",
    "lr_clf = LogisticRegression()\n",
    "\n",
    "lr_clf.fit(X_train, y_train)"
   ]
  },
  {
   "cell_type": "code",
   "execution_count": 103,
   "id": "3e57de03",
   "metadata": {},
   "outputs": [
    {
     "data": {
      "text/plain": [
       "0.7630511260046735"
      ]
     },
     "execution_count": 103,
     "metadata": {},
     "output_type": "execute_result"
    }
   ],
   "source": [
    "lr_clf.score(X_test, y_test)"
   ]
  },
  {
   "cell_type": "markdown",
   "id": "387af916",
   "metadata": {},
   "source": [
    "# SVC"
   ]
  },
  {
   "cell_type": "code",
   "execution_count": null,
   "id": "74efb19c",
   "metadata": {},
   "outputs": [],
   "source": [
    "# from sklearn.svm import SVC\n",
    "\n",
    "# svc = SVC()\n",
    "# svc.fit(X_train, y_train)\n",
    "# svc.score(X_test, y_test)"
   ]
  },
  {
   "cell_type": "markdown",
   "id": "447c1931",
   "metadata": {},
   "source": [
    "   # KNN"
   ]
  },
  {
   "cell_type": "code",
   "execution_count": null,
   "id": "b45d9123",
   "metadata": {},
   "outputs": [],
   "source": [
    "from sklearn.neighbors import KNeighborsClassifier\n",
    "knn = KNeighborsClassifier()\n",
    "knn.fit(X_train, y_train)\n",
    "\n",
    "knn.score(X_test, y_test)"
   ]
  },
  {
   "cell_type": "markdown",
   "id": "d98db3b6",
   "metadata": {},
   "source": [
    "# Neural Network"
   ]
  },
  {
   "cell_type": "code",
   "execution_count": null,
   "id": "f786bbff",
   "metadata": {},
   "outputs": [],
   "source": [
    "X_train.shape"
   ]
  },
  {
   "cell_type": "code",
   "execution_count": null,
   "id": "2e04c3a4",
   "metadata": {},
   "outputs": [],
   "source": [
    "import tensorflow as tf\n",
    "from tensorflow import keras\n",
    "from tensorflow.keras.models import Sequential\n",
    "from tensorflow.keras.layers import Dense, Dropout, Activation\n",
    "\n",
    "# Modeling\n",
    "model = Sequential([\n",
    "    Dense(128, input_dim=38, activation='relu'),\n",
    "    Dropout(0.5),\n",
    "    Dense(64, activation='relu'),\n",
    "    Dropout(0.5),\n",
    "    Dense(32, activation='relu'),\n",
    "    Dense(1, activation='sigmoid')\n",
    "])\n",
    "\n",
    "# Compiling\n",
    "model.compile(optimizer=keras.optimizers.Adam(learning_rate = 0.01),\n",
    "              loss = keras.losses.BinaryCrossentropy(), metrics = ['accuracy']\n",
    "             )\n",
    "\n",
    "# Fitting with no early stopping or callback\n",
    "# history = model.fit(X_train, y_train, verbose=1, epochs=100, batch_size=64, validation_data=(X_test, y_test))"
   ]
  },
  {
   "cell_type": "code",
   "execution_count": null,
   "id": "48badef4",
   "metadata": {},
   "outputs": [],
   "source": [
    "class myCallback(tf.keras.callbacks.Callback):\n",
    " def on_epoch_end(self, epoch, logs={}):\n",
    "   if(logs.get('accuracy')>0.99):\n",
    "     print(\"\\nReached 99% accuracy so cancelling training!\")\n",
    "     self.model.stop_training = True\n",
    "\n",
    "callbacks = myCallback()"
   ]
  },
  {
   "cell_type": "code",
   "execution_count": null,
   "id": "3679417e",
   "metadata": {},
   "outputs": [],
   "source": [
    "history = model.fit(X_train, y_train, verbose=1, epochs=500, batch_size=64, \n",
    "                    validation_data=(X_test, y_test), callbacks=[callbacks])"
   ]
  },
  {
   "cell_type": "code",
   "execution_count": null,
   "id": "8f2596bb",
   "metadata": {},
   "outputs": [],
   "source": []
  },
  {
   "cell_type": "code",
   "execution_count": null,
   "id": "aa67cf5e",
   "metadata": {},
   "outputs": [],
   "source": []
  }
 ],
 "metadata": {
  "kernelspec": {
   "display_name": "Python 3 (ipykernel)",
   "language": "python",
   "name": "python3"
  },
  "language_info": {
   "codemirror_mode": {
    "name": "ipython",
    "version": 3
   },
   "file_extension": ".py",
   "mimetype": "text/x-python",
   "name": "python",
   "nbconvert_exporter": "python",
   "pygments_lexer": "ipython3",
   "version": "3.9.12"
  }
 },
 "nbformat": 4,
 "nbformat_minor": 5
}
