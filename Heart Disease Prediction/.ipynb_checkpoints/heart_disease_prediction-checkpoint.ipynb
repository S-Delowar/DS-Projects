{
 "cells": [
  {
   "cell_type": "code",
   "execution_count": 1,
   "id": "991913e0",
   "metadata": {},
   "outputs": [],
   "source": [
    "import pandas as pd\n",
    "import matplotlib.pyplot as plt\n",
    "import seaborn as sns\n",
    "import warnings\n",
    "warnings.filterwarnings('ignore')\n",
    "from scipy import stats\n",
    "import numpy as np"
   ]
  },
  {
   "cell_type": "code",
   "execution_count": 2,
   "id": "d35a1e68",
   "metadata": {
    "scrolled": true
   },
   "outputs": [
    {
     "data": {
      "text/html": [
       "<div>\n",
       "<style scoped>\n",
       "    .dataframe tbody tr th:only-of-type {\n",
       "        vertical-align: middle;\n",
       "    }\n",
       "\n",
       "    .dataframe tbody tr th {\n",
       "        vertical-align: top;\n",
       "    }\n",
       "\n",
       "    .dataframe thead th {\n",
       "        text-align: right;\n",
       "    }\n",
       "</style>\n",
       "<table border=\"1\" class=\"dataframe\">\n",
       "  <thead>\n",
       "    <tr style=\"text-align: right;\">\n",
       "      <th></th>\n",
       "      <th>HeartDisease</th>\n",
       "      <th>BMI</th>\n",
       "      <th>Smoking</th>\n",
       "      <th>AlcoholDrinking</th>\n",
       "      <th>Stroke</th>\n",
       "      <th>PhysicalHealth</th>\n",
       "      <th>MentalHealth</th>\n",
       "      <th>DiffWalking</th>\n",
       "      <th>Sex</th>\n",
       "      <th>AgeCategory</th>\n",
       "      <th>Race</th>\n",
       "      <th>Diabetic</th>\n",
       "      <th>PhysicalActivity</th>\n",
       "      <th>GenHealth</th>\n",
       "      <th>SleepTime</th>\n",
       "      <th>Asthma</th>\n",
       "      <th>KidneyDisease</th>\n",
       "      <th>SkinCancer</th>\n",
       "    </tr>\n",
       "  </thead>\n",
       "  <tbody>\n",
       "    <tr>\n",
       "      <th>0</th>\n",
       "      <td>No</td>\n",
       "      <td>16.60</td>\n",
       "      <td>Yes</td>\n",
       "      <td>No</td>\n",
       "      <td>No</td>\n",
       "      <td>3</td>\n",
       "      <td>30</td>\n",
       "      <td>No</td>\n",
       "      <td>Female</td>\n",
       "      <td>55-59</td>\n",
       "      <td>White</td>\n",
       "      <td>Yes</td>\n",
       "      <td>Yes</td>\n",
       "      <td>Very good</td>\n",
       "      <td>5</td>\n",
       "      <td>Yes</td>\n",
       "      <td>No</td>\n",
       "      <td>Yes</td>\n",
       "    </tr>\n",
       "    <tr>\n",
       "      <th>1</th>\n",
       "      <td>No</td>\n",
       "      <td>20.34</td>\n",
       "      <td>No</td>\n",
       "      <td>No</td>\n",
       "      <td>Yes</td>\n",
       "      <td>0</td>\n",
       "      <td>0</td>\n",
       "      <td>No</td>\n",
       "      <td>Female</td>\n",
       "      <td>80 or older</td>\n",
       "      <td>White</td>\n",
       "      <td>No</td>\n",
       "      <td>Yes</td>\n",
       "      <td>Very good</td>\n",
       "      <td>7</td>\n",
       "      <td>No</td>\n",
       "      <td>No</td>\n",
       "      <td>No</td>\n",
       "    </tr>\n",
       "    <tr>\n",
       "      <th>2</th>\n",
       "      <td>No</td>\n",
       "      <td>26.58</td>\n",
       "      <td>Yes</td>\n",
       "      <td>No</td>\n",
       "      <td>No</td>\n",
       "      <td>20</td>\n",
       "      <td>30</td>\n",
       "      <td>No</td>\n",
       "      <td>Male</td>\n",
       "      <td>65-69</td>\n",
       "      <td>White</td>\n",
       "      <td>Yes</td>\n",
       "      <td>Yes</td>\n",
       "      <td>Fair</td>\n",
       "      <td>8</td>\n",
       "      <td>Yes</td>\n",
       "      <td>No</td>\n",
       "      <td>No</td>\n",
       "    </tr>\n",
       "    <tr>\n",
       "      <th>3</th>\n",
       "      <td>No</td>\n",
       "      <td>24.21</td>\n",
       "      <td>No</td>\n",
       "      <td>No</td>\n",
       "      <td>No</td>\n",
       "      <td>0</td>\n",
       "      <td>0</td>\n",
       "      <td>No</td>\n",
       "      <td>Female</td>\n",
       "      <td>75-79</td>\n",
       "      <td>White</td>\n",
       "      <td>No</td>\n",
       "      <td>No</td>\n",
       "      <td>Good</td>\n",
       "      <td>6</td>\n",
       "      <td>No</td>\n",
       "      <td>No</td>\n",
       "      <td>Yes</td>\n",
       "    </tr>\n",
       "    <tr>\n",
       "      <th>4</th>\n",
       "      <td>No</td>\n",
       "      <td>23.71</td>\n",
       "      <td>No</td>\n",
       "      <td>No</td>\n",
       "      <td>No</td>\n",
       "      <td>28</td>\n",
       "      <td>0</td>\n",
       "      <td>Yes</td>\n",
       "      <td>Female</td>\n",
       "      <td>40-44</td>\n",
       "      <td>White</td>\n",
       "      <td>No</td>\n",
       "      <td>Yes</td>\n",
       "      <td>Very good</td>\n",
       "      <td>8</td>\n",
       "      <td>No</td>\n",
       "      <td>No</td>\n",
       "      <td>No</td>\n",
       "    </tr>\n",
       "  </tbody>\n",
       "</table>\n",
       "</div>"
      ],
      "text/plain": [
       "  HeartDisease    BMI Smoking AlcoholDrinking Stroke  PhysicalHealth  \\\n",
       "0           No  16.60     Yes              No     No               3   \n",
       "1           No  20.34      No              No    Yes               0   \n",
       "2           No  26.58     Yes              No     No              20   \n",
       "3           No  24.21      No              No     No               0   \n",
       "4           No  23.71      No              No     No              28   \n",
       "\n",
       "   MentalHealth DiffWalking     Sex  AgeCategory   Race Diabetic  \\\n",
       "0            30          No  Female        55-59  White      Yes   \n",
       "1             0          No  Female  80 or older  White       No   \n",
       "2            30          No    Male        65-69  White      Yes   \n",
       "3             0          No  Female        75-79  White       No   \n",
       "4             0         Yes  Female        40-44  White       No   \n",
       "\n",
       "  PhysicalActivity  GenHealth  SleepTime Asthma KidneyDisease SkinCancer  \n",
       "0              Yes  Very good          5    Yes            No        Yes  \n",
       "1              Yes  Very good          7     No            No         No  \n",
       "2              Yes       Fair          8    Yes            No         No  \n",
       "3               No       Good          6     No            No        Yes  \n",
       "4              Yes  Very good          8     No            No         No  "
      ]
     },
     "execution_count": 2,
     "metadata": {},
     "output_type": "execute_result"
    }
   ],
   "source": [
    "df = pd.read_csv('Heart Disease.csv')\n",
    "df.head()"
   ]
  },
  {
   "cell_type": "markdown",
   "id": "a7247768",
   "metadata": {},
   "source": [
    "## Exploratory Data Analysis (EDA) "
   ]
  },
  {
   "cell_type": "code",
   "execution_count": 3,
   "id": "b28ed466",
   "metadata": {
    "scrolled": true
   },
   "outputs": [
    {
     "data": {
      "text/plain": [
       "(319795, 18)"
      ]
     },
     "execution_count": 3,
     "metadata": {},
     "output_type": "execute_result"
    }
   ],
   "source": [
    "df.shape"
   ]
  },
  {
   "cell_type": "code",
   "execution_count": 4,
   "id": "5ca23230",
   "metadata": {},
   "outputs": [
    {
     "data": {
      "text/plain": [
       "Index(['HeartDisease', 'BMI', 'Smoking', 'AlcoholDrinking', 'Stroke',\n",
       "       'PhysicalHealth', 'MentalHealth', 'DiffWalking', 'Sex', 'AgeCategory',\n",
       "       'Race', 'Diabetic', 'PhysicalActivity', 'GenHealth', 'SleepTime',\n",
       "       'Asthma', 'KidneyDisease', 'SkinCancer'],\n",
       "      dtype='object')"
      ]
     },
     "execution_count": 4,
     "metadata": {},
     "output_type": "execute_result"
    }
   ],
   "source": [
    "df.columns"
   ]
  },
  {
   "cell_type": "code",
   "execution_count": 5,
   "id": "e9f47aa9",
   "metadata": {},
   "outputs": [
    {
     "data": {
      "text/plain": [
       "Index(['heart_disease', 'bmi', 'smoking', 'alcohol_drinking', 'stroke',\n",
       "       'physical_health', 'mental_health', 'diff_walking', 'sex',\n",
       "       'age_category', 'race', 'diabetic', 'physical_activity', 'gen_health',\n",
       "       'sleep_time', 'asthma', 'kidney_disease', 'skin_cancer'],\n",
       "      dtype='object')"
      ]
     },
     "execution_count": 5,
     "metadata": {},
     "output_type": "execute_result"
    }
   ],
   "source": [
    "df = df.rename(columns = {'HeartDisease':'heart_disease', 'BMI':'bmi', 'Smoking':'smoking', 'AlcoholDrinking':'alcohol_drinking', 'Stroke':'stroke', 'PhysicalHealth':'physical_health', 'MentalHealth':'mental_health', 'DiffWalking':'diff_walking', 'Sex':'sex', 'AgeCategory':'age_category', 'Race':'race', 'Diabetic':'diabetic', 'PhysicalActivity':'physical_activity', 'GenHealth':'gen_health', 'SleepTime':'sleep_time', 'Asthma':'asthma', 'KidneyDisease':'kidney_disease', 'SkinCancer':'skin_cancer'})\n",
    "df.columns"
   ]
  },
  {
   "cell_type": "code",
   "execution_count": 6,
   "id": "a278ab79",
   "metadata": {},
   "outputs": [
    {
     "data": {
      "text/plain": [
       "heart_disease        0\n",
       "bmi                  0\n",
       "smoking              0\n",
       "alcohol_drinking     0\n",
       "stroke               0\n",
       "physical_health      0\n",
       "mental_health        0\n",
       "diff_walking         0\n",
       "sex                  0\n",
       "age_category         0\n",
       "race                 0\n",
       "diabetic             0\n",
       "physical_activity    0\n",
       "gen_health           0\n",
       "sleep_time           0\n",
       "asthma               0\n",
       "kidney_disease       0\n",
       "skin_cancer          0\n",
       "dtype: int64"
      ]
     },
     "execution_count": 6,
     "metadata": {},
     "output_type": "execute_result"
    }
   ],
   "source": [
    "df.isnull().sum()"
   ]
  },
  {
   "cell_type": "code",
   "execution_count": 7,
   "id": "1fa2a2b3",
   "metadata": {},
   "outputs": [
    {
     "data": {
      "text/plain": [
       "No     292422\n",
       "Yes     27373\n",
       "Name: heart_disease, dtype: int64"
      ]
     },
     "execution_count": 7,
     "metadata": {},
     "output_type": "execute_result"
    }
   ],
   "source": [
    "df['heart_disease'].value_counts()"
   ]
  },
  {
   "cell_type": "code",
   "execution_count": 8,
   "id": "145bb612",
   "metadata": {},
   "outputs": [
    {
     "name": "stdout",
     "output_type": "stream",
     "text": [
      "<class 'pandas.core.frame.DataFrame'>\n",
      "RangeIndex: 319795 entries, 0 to 319794\n",
      "Data columns (total 18 columns):\n",
      " #   Column             Non-Null Count   Dtype  \n",
      "---  ------             --------------   -----  \n",
      " 0   heart_disease      319795 non-null  object \n",
      " 1   bmi                319795 non-null  float64\n",
      " 2   smoking            319795 non-null  object \n",
      " 3   alcohol_drinking   319795 non-null  object \n",
      " 4   stroke             319795 non-null  object \n",
      " 5   physical_health    319795 non-null  int64  \n",
      " 6   mental_health      319795 non-null  int64  \n",
      " 7   diff_walking       319795 non-null  object \n",
      " 8   sex                319795 non-null  object \n",
      " 9   age_category       319795 non-null  object \n",
      " 10  race               319795 non-null  object \n",
      " 11  diabetic           319795 non-null  object \n",
      " 12  physical_activity  319795 non-null  object \n",
      " 13  gen_health         319795 non-null  object \n",
      " 14  sleep_time         319795 non-null  int64  \n",
      " 15  asthma             319795 non-null  object \n",
      " 16  kidney_disease     319795 non-null  object \n",
      " 17  skin_cancer        319795 non-null  object \n",
      "dtypes: float64(1), int64(3), object(14)\n",
      "memory usage: 43.9+ MB\n"
     ]
    }
   ],
   "source": [
    "df.info()"
   ]
  },
  {
   "cell_type": "code",
   "execution_count": 9,
   "id": "7e382736",
   "metadata": {},
   "outputs": [
    {
     "data": {
      "text/html": [
       "<div>\n",
       "<style scoped>\n",
       "    .dataframe tbody tr th:only-of-type {\n",
       "        vertical-align: middle;\n",
       "    }\n",
       "\n",
       "    .dataframe tbody tr th {\n",
       "        vertical-align: top;\n",
       "    }\n",
       "\n",
       "    .dataframe thead th {\n",
       "        text-align: right;\n",
       "    }\n",
       "</style>\n",
       "<table border=\"1\" class=\"dataframe\">\n",
       "  <thead>\n",
       "    <tr style=\"text-align: right;\">\n",
       "      <th></th>\n",
       "      <th>bmi</th>\n",
       "      <th>physical_health</th>\n",
       "      <th>mental_health</th>\n",
       "      <th>sleep_time</th>\n",
       "    </tr>\n",
       "  </thead>\n",
       "  <tbody>\n",
       "    <tr>\n",
       "      <th>count</th>\n",
       "      <td>319795.000000</td>\n",
       "      <td>319795.000000</td>\n",
       "      <td>319795.000000</td>\n",
       "      <td>319795.000000</td>\n",
       "    </tr>\n",
       "    <tr>\n",
       "      <th>mean</th>\n",
       "      <td>28.325399</td>\n",
       "      <td>3.371710</td>\n",
       "      <td>3.898366</td>\n",
       "      <td>7.097075</td>\n",
       "    </tr>\n",
       "    <tr>\n",
       "      <th>std</th>\n",
       "      <td>6.356100</td>\n",
       "      <td>7.950850</td>\n",
       "      <td>7.955235</td>\n",
       "      <td>1.436007</td>\n",
       "    </tr>\n",
       "    <tr>\n",
       "      <th>min</th>\n",
       "      <td>12.020000</td>\n",
       "      <td>0.000000</td>\n",
       "      <td>0.000000</td>\n",
       "      <td>1.000000</td>\n",
       "    </tr>\n",
       "    <tr>\n",
       "      <th>25%</th>\n",
       "      <td>24.030000</td>\n",
       "      <td>0.000000</td>\n",
       "      <td>0.000000</td>\n",
       "      <td>6.000000</td>\n",
       "    </tr>\n",
       "    <tr>\n",
       "      <th>50%</th>\n",
       "      <td>27.340000</td>\n",
       "      <td>0.000000</td>\n",
       "      <td>0.000000</td>\n",
       "      <td>7.000000</td>\n",
       "    </tr>\n",
       "    <tr>\n",
       "      <th>75%</th>\n",
       "      <td>31.420000</td>\n",
       "      <td>2.000000</td>\n",
       "      <td>3.000000</td>\n",
       "      <td>8.000000</td>\n",
       "    </tr>\n",
       "    <tr>\n",
       "      <th>max</th>\n",
       "      <td>94.850000</td>\n",
       "      <td>30.000000</td>\n",
       "      <td>30.000000</td>\n",
       "      <td>24.000000</td>\n",
       "    </tr>\n",
       "    <tr>\n",
       "      <th>skewness</th>\n",
       "      <td>1.332431</td>\n",
       "      <td>2.603973</td>\n",
       "      <td>2.331112</td>\n",
       "      <td>0.679035</td>\n",
       "    </tr>\n",
       "    <tr>\n",
       "      <th>kurtosis</th>\n",
       "      <td>3.890043</td>\n",
       "      <td>5.528450</td>\n",
       "      <td>4.403937</td>\n",
       "      <td>7.854869</td>\n",
       "    </tr>\n",
       "    <tr>\n",
       "      <th>variance</th>\n",
       "      <td>40.400010</td>\n",
       "      <td>63.216019</td>\n",
       "      <td>63.285767</td>\n",
       "      <td>2.062116</td>\n",
       "    </tr>\n",
       "  </tbody>\n",
       "</table>\n",
       "</div>"
      ],
      "text/plain": [
       "                    bmi  physical_health  mental_health     sleep_time\n",
       "count     319795.000000    319795.000000  319795.000000  319795.000000\n",
       "mean          28.325399         3.371710       3.898366       7.097075\n",
       "std            6.356100         7.950850       7.955235       1.436007\n",
       "min           12.020000         0.000000       0.000000       1.000000\n",
       "25%           24.030000         0.000000       0.000000       6.000000\n",
       "50%           27.340000         0.000000       0.000000       7.000000\n",
       "75%           31.420000         2.000000       3.000000       8.000000\n",
       "max           94.850000        30.000000      30.000000      24.000000\n",
       "skewness       1.332431         2.603973       2.331112       0.679035\n",
       "kurtosis       3.890043         5.528450       4.403937       7.854869\n",
       "variance      40.400010        63.216019      63.285767       2.062116"
      ]
     },
     "execution_count": 9,
     "metadata": {},
     "output_type": "execute_result"
    }
   ],
   "source": [
    "statical_analysis = df.describe()\n",
    "statical_analysis.loc['skewness'] = df.skew()\n",
    "statical_analysis.loc['kurtosis'] = df.kurt()\n",
    "statical_analysis.loc['variance'] = df.var()\n",
    "statical_analysis"
   ]
  },
  {
   "cell_type": "markdown",
   "id": "daf8ce42",
   "metadata": {},
   "source": [
    "# Visualization"
   ]
  },
  {
   "cell_type": "code",
   "execution_count": 10,
   "id": "ec90cc02",
   "metadata": {
    "scrolled": false
   },
   "outputs": [
    {
     "data": {
      "image/png": "[encoded data removed]",
      "text/plain": [
       "<Figure size 432x288 with 1 Axes>"
      ]
     },
     "metadata": {
      "needs_background": "light"
     },
     "output_type": "display_data"
    }
   ],
   "source": [
    "sns.histplot(data=df, x='bmi', kde=True);"
   ]
  },
  {
   "cell_type": "code",
   "execution_count": 11,
   "id": "73518f5c",
   "metadata": {
    "scrolled": true
   },
   "outputs": [
    {
     "data": {
      "image/png": "[encoded data removed]",
      "text/plain": [
       "<Figure size 432x288 with 1 Axes>"
      ]
     },
     "metadata": {
      "needs_background": "light"
     },
     "output_type": "display_data"
    }
   ],
   "source": [
    "sns.countplot(data=df, x='heart_disease');"
   ]
  },
  {
   "cell_type": "markdown",
   "id": "7735cd3b",
   "metadata": {},
   "source": [
    "We can see that data is highly imbalanced"
   ]
  },
  {
   "cell_type": "markdown",
   "id": "d34b86ae",
   "metadata": {},
   "source": [
    "#### Checking Outliers"
   ]
  },
  {
   "cell_type": "code",
   "execution_count": 12,
   "id": "3ebb0add",
   "metadata": {},
   "outputs": [
    {
     "data": {
      "text/plain": [
       "<AxesSubplot:>"
      ]
     },
     "execution_count": 12,
     "metadata": {},
     "output_type": "execute_result"
    },
    {
     "data": {
      "image/png": "[encoded data removed]",
      "text/plain": [
       "<Figure size 432x288 with 1 Axes>"
      ]
     },
     "metadata": {
      "needs_background": "light"
     },
     "output_type": "display_data"
    }
   ],
   "source": [
    "columns_to_plot = ['physical_health', 'mental_health', 'sleep_time']\n",
    "sns.boxplot(data=df[columns_to_plot])\n"
   ]
  },
  {
   "cell_type": "code",
   "execution_count": 13,
   "id": "55f55560",
   "metadata": {},
   "outputs": [
    {
     "data": {
      "image/png": "[encoded data removed]",
      "text/plain": [
       "<Figure size 432x288 with 1 Axes>"
      ]
     },
     "metadata": {
      "needs_background": "light"
     },
     "output_type": "display_data"
    }
   ],
   "source": [
    "sns.boxplot(data=df[['bmi']]);"
   ]
  },
  {
   "cell_type": "markdown",
   "id": "1d0465da",
   "metadata": {},
   "source": [
    "We can see that there are outliers in these columns ('bmi', 'physical_health', 'mental_health', 'sleep_time')"
   ]
  },
  {
   "cell_type": "markdown",
   "id": "16e21cc0",
   "metadata": {},
   "source": [
    "#### Finding total outliers"
   ]
  },
  {
   "cell_type": "markdown",
   "id": "88b58d59",
   "metadata": {},
   "source": [
    "We can find outliers by z-score or modified z-score. if z-score < -3 or  z-score > 3, then the value is a outlier."
   ]
  },
  {
   "cell_type": "code",
   "execution_count": 46,
   "id": "795d1402",
   "metadata": {},
   "outputs": [],
   "source": [
    "cols = ['bmi', 'physical_health', 'mental_health', 'sleep_time']\n",
    "z = stats.zscore(df[cols])\n",
    "z = np.abs(z)\n",
    "\n",
    "thresold = 3\n",
    "df_filtered = df[(z < thresold).all(axis = 1)]\n",
    "df_outliers = df[(z > thresold).all(axis = 1)]\n",
    "\n",
    "# df_filtered = df.all()[(z_scores < 3) & (z_scores > -3)]\n",
    "# df_outliers = df.all()[(z_scores < 3) or (z_scores > -3)]\n",
    "# df_outliers.shape"
   ]
  },
  {
   "cell_type": "code",
   "execution_count": 49,
   "id": "7d22bddb",
   "metadata": {},
   "outputs": [
    {
     "data": {
      "text/plain": [
       "<AxesSubplot:>"
      ]
     },
     "execution_count": 49,
     "metadata": {},
     "output_type": "execute_result"
    },
    {
     "data": {
      "image/png": "[encoded data removed]",
      "text/plain": [
       "<Figure size 432x288 with 1 Axes>"
      ]
     },
     "metadata": {
      "needs_background": "light"
     },
     "output_type": "display_data"
    }
   ],
   "source": [
    "columns_to_plot = ['physical_health', 'mental_health', 'sleep_time']\n",
    "sns.boxplot(data=df_filtered[columns_to_plot])"
   ]
  },
  {
   "cell_type": "code",
   "execution_count": 50,
   "id": "cb0f32f1",
   "metadata": {},
   "outputs": [
    {
     "data": {
      "text/plain": [
       "heart_disease        23\n",
       "bmi                  23\n",
       "smoking              23\n",
       "alcohol_drinking     23\n",
       "stroke               23\n",
       "physical_health      23\n",
       "mental_health        23\n",
       "diff_walking         23\n",
       "sex                  23\n",
       "age_category         23\n",
       "race                 23\n",
       "diabetic             23\n",
       "physical_activity    23\n",
       "gen_health           23\n",
       "sleep_time           23\n",
       "asthma               23\n",
       "kidney_disease       23\n",
       "skin_cancer          23\n",
       "dtype: int64"
      ]
     },
     "execution_count": 50,
     "metadata": {},
     "output_type": "execute_result"
    }
   ],
   "source": [
    "df_outliers.count()"
   ]
  },
  {
   "cell_type": "code",
   "execution_count": 51,
   "id": "170ff2ae",
   "metadata": {},
   "outputs": [
    {
     "data": {
      "text/plain": [
       "(280293, 18)"
      ]
     },
     "execution_count": 51,
     "metadata": {},
     "output_type": "execute_result"
    }
   ],
   "source": [
    "df_filtered.shape"
   ]
  },
  {
   "cell_type": "code",
   "execution_count": 52,
   "id": "abd0aadc",
   "metadata": {},
   "outputs": [
    {
     "data": {
      "text/plain": [
       "(319795, 18)"
      ]
     },
     "execution_count": 52,
     "metadata": {},
     "output_type": "execute_result"
    }
   ],
   "source": [
    "df.shape"
   ]
  },
  {
   "cell_type": "code",
   "execution_count": 53,
   "id": "e966d7a9",
   "metadata": {},
   "outputs": [
    {
     "data": {
      "text/plain": [
       "(23, 18)"
      ]
     },
     "execution_count": 53,
     "metadata": {},
     "output_type": "execute_result"
    }
   ],
   "source": [
    "df_outliers.shape"
   ]
  },
  {
   "cell_type": "code",
   "execution_count": 54,
   "id": "b2472d56",
   "metadata": {},
   "outputs": [
    {
     "data": {
      "text/plain": [
       "<AxesSubplot:>"
      ]
     },
     "execution_count": 54,
     "metadata": {},
     "output_type": "execute_result"
    },
    {
     "data": {
      "image/png": "[encoded data removed]",
      "text/plain": [
       "<Figure size 432x288 with 1 Axes>"
      ]
     },
     "metadata": {
      "needs_background": "light"
     },
     "output_type": "display_data"
    }
   ],
   "source": [
    "columns_to_plot = ['physical_health', 'mental_health', 'sleep_time']\n",
    "sns.boxplot(data=df_filtered[columns_to_plot])\n"
   ]
  },
  {
   "cell_type": "code",
   "execution_count": 55,
   "id": "2c40a3d0",
   "metadata": {},
   "outputs": [
    {
     "data": {
      "image/png": "[encoded data removed]",
      "text/plain": [
       "<Figure size 432x288 with 1 Axes>"
      ]
     },
     "metadata": {
      "needs_background": "light"
     },
     "output_type": "display_data"
    }
   ],
   "source": [
    "sns.boxplot(data=df_filtered[['bmi']]);"
   ]
  },
  {
   "cell_type": "code",
   "execution_count": 39,
   "id": "b5e6a61f",
   "metadata": {},
   "outputs": [
    {
     "data": {
      "text/plain": [
       "heart_disease        0\n",
       "bmi                  0\n",
       "smoking              0\n",
       "alcohol_drinking     0\n",
       "stroke               0\n",
       "physical_health      0\n",
       "mental_health        0\n",
       "diff_walking         0\n",
       "sex                  0\n",
       "age_category         0\n",
       "race                 0\n",
       "diabetic             0\n",
       "physical_activity    0\n",
       "gen_health           0\n",
       "sleep_time           0\n",
       "asthma               0\n",
       "kidney_disease       0\n",
       "skin_cancer          0\n",
       "dtype: int64"
      ]
     },
     "execution_count": 39,
     "metadata": {},
     "output_type": "execute_result"
    }
   ],
   "source": [
    "df_outliers.count()"
   ]
  },
  {
   "cell_type": "code",
   "execution_count": 27,
   "id": "067d5243",
   "metadata": {},
   "outputs": [
    {
     "data": {
      "text/plain": [
       "(319795, 18)"
      ]
     },
     "execution_count": 27,
     "metadata": {},
     "output_type": "execute_result"
    }
   ],
   "source": [
    "df_filtered.shape"
   ]
  },
  {
   "cell_type": "code",
   "execution_count": null,
   "id": "429a1600",
   "metadata": {},
   "outputs": [],
   "source": []
  }
 ],
 "metadata": {
  "kernelspec": {
   "display_name": "Python 3 (ipykernel)",
   "language": "python",
   "name": "python3"
  },
  "language_info": {
   "codemirror_mode": {
    "name": "ipython",
    "version": 3
   },
   "file_extension": ".py",
   "mimetype": "text/x-python",
   "name": "python",
   "nbconvert_exporter": "python",
   "pygments_lexer": "ipython3",
   "version": "3.9.12"
  }
 },
 "nbformat": 4,
 "nbformat_minor": 5
}
